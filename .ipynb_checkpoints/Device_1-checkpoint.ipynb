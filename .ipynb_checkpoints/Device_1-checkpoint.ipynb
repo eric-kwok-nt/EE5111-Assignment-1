{
 "cells": [
  {
   "cell_type": "code",
   "execution_count": 11,
   "metadata": {
    "scrolled": true
   },
   "outputs": [
    {
     "name": "stdout",
     "output_type": "stream",
     "text": [
      "{\"state\":{\"reported\":{\"ID\":\"FD001_2\",\"Cycle\":2,\"os 1\":0.0019,\"os 2\":-0.0003,\"os 3\":100.0,\"sensor 1\":518.67,\"sensor 2\":642.15,\"sensor 3\":1591.82,\"sensor 4\":1403.14,\"sensor 5\":14.62,\"sensor 6\":21.61,\"sensor 7\":553.75,\"sensor 8\":2388.04,\"sensor 9\":9044.07,\"sensor 10\":1.3,\"sensor 11\":47.49,\"sensor 12\":522.28,\"sensor 13\":2388.07,\"sensor 14\":8131.49,\"sensor 15\":8.4318,\"sensor 16\":0.03,\"sensor 17\":392,\"sensor 18\":2388,\"sensor 19\":100.0,\"sensor 20\":39.0,\"sensor 21\":23.4236,\"Timestamp\":\"2019-09-01 15:08:30.944361\",\"Matric Number\":\"A0108484B\"}}}\n"
     ]
    }
   ],
   "source": [
    "from AWSIoTPythonSDK.MQTTLib import AWSIoTMQTTShadowClient\n",
    "import random, time\n",
    "import json\n",
    "import pandas as pd\n",
    "from datetime import datetime as dt\n",
    "from ee5111_libraries import *\n",
    "\n",
    "# A random programmatic shadow client ID.\n",
    "SHADOW_CLIENT = \"myShadowClient\"\n",
    "\n",
    "# The unique hostname that &IoT; generated for\n",
    "# this device.\n",
    "HOST_NAME = \"a3pozjl1nqlszm-ats.iot.ap-southeast-1.amazonaws.com\"\n",
    "\n",
    "# The relative path to the correct root CA file for &IoT;,\n",
    "# which you have already saved onto this device.\n",
    "ROOT_CA = \"Amazon AWS server certificates/AmazonRootCA1.pem\"\n",
    "\n",
    "# The relative path to your private key file that\n",
    "# &IoT; generated for this device, which you\n",
    "# have already saved onto this device.\n",
    "PRIVATE_KEY = \"Amazon AWS server certificates/b9b97e55e2-private.pem.key\"\n",
    "\n",
    "# The relative path to your certificate file that\n",
    "# &IoT; generated for this device, which you\n",
    "# have already saved onto this device.\n",
    "CERT_FILE = \"Amazon AWS server certificates/b9b97e55e2-certificate.pem.crt\"\n",
    "\n",
    "# A programmatic shadow handler name prefix.\n",
    "SHADOW_HANDLER = \"A0108484B\"\n",
    "\n",
    "# Automatically called whenever the shadow is updated.\n",
    "def myShadowUpdateCallback(payload, responseStatus, token):\n",
    "  print()\n",
    "  print('UPDATE: $aws/things/' + SHADOW_HANDLER +\n",
    "    '/shadow/update/#')\n",
    "  print(\"payload = \" + payload)\n",
    "  print(\"responseStatus = \" + responseStatus)\n",
    "  print(\"token = \" + token)\n",
    "\n",
    "# Create, configure, and connect a shadow client.\n",
    "myShadowClient = AWSIoTMQTTShadowClient(SHADOW_CLIENT)\n",
    "myShadowClient.configureEndpoint(HOST_NAME, 8883)\n",
    "myShadowClient.configureCredentials(ROOT_CA, PRIVATE_KEY,\n",
    "  CERT_FILE)\n",
    "myShadowClient.configureConnectDisconnectTimeout(10)\n",
    "myShadowClient.configureMQTTOperationTimeout(5)\n",
    "myShadowClient.connect()\n",
    "\n",
    "# Create a programmatic representation of the shadow.\n",
    "myDeviceShadow = myShadowClient.createShadowHandlerWithName(\n",
    "  SHADOW_HANDLER, True)\n",
    "\n",
    "# Keep generating random test data until this script\n",
    "# stops running.\n",
    "# To stop running this script, press Ctrl+C.\n",
    "\n",
    "eng_d1 = csv_processing('train_FD001.txt',1)\n",
    "eng_d1.at[1,'Timestamp'] = str(dt.utcnow())\n",
    "json_line = eng_d1.iloc[1].to_json()\n",
    "appended_js_l = '{\"state\":{\"reported\":'+json_line+'}}'\n",
    "#myDeviceShadow.shadowUpdate(json_msg,myShadowUpdateCallback, 5)\n",
    "#time.sleep(5)\n",
    "print(appended_js_l)"
   ]
  },
  {
   "cell_type": "code",
   "execution_count": 3,
   "metadata": {},
   "outputs": [
    {
     "name": "stdout",
     "output_type": "stream",
     "text": [
      "2019-09-01 15:01:42.722384\n"
     ]
    }
   ],
   "source": [
    "from datetime import datetime\n",
    "now = datetime.utcnow()\n",
    "print(str(datetime.utcnow()))"
   ]
  },
  {
   "cell_type": "code",
   "execution_count": null,
   "metadata": {
    "collapsed": true
   },
   "outputs": [],
   "source": []
  }
 ],
 "metadata": {
  "kernelspec": {
   "display_name": "Python 3",
   "language": "python",
   "name": "python3"
  },
  "language_info": {
   "codemirror_mode": {
    "name": "ipython",
    "version": 3
   },
   "file_extension": ".py",
   "mimetype": "text/x-python",
   "name": "python",
   "nbconvert_exporter": "python",
   "pygments_lexer": "ipython3",
   "version": "3.6.3"
  }
 },
 "nbformat": 4,
 "nbformat_minor": 2
}
