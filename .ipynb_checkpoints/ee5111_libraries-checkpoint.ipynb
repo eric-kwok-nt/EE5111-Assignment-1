{
 "cells": [
  {
   "cell_type": "code",
   "execution_count": 6,
   "metadata": {},
   "outputs": [
    {
     "name": "stdout",
     "output_type": "stream",
     "text": [
      "2019-09-01 11:30:57.285715\n"
     ]
    }
   ],
   "source": [
    "import pandas as pd\n",
    "import numpy as np\n",
    "from datetime import datetime as dt\n",
    "\n",
    "def csv_processing(filename,engine_number):\n",
    "    engine_d = pd.read_csv(filename,delimiter=' |\\n',header=None,engine='python') \n",
    "    # To read the engine data\n",
    "\n",
    "    Header = ['ID','Cycle','os 1','os 2','os 3']\n",
    "    Header += ['sensor '+str(sensor_num) for sensor_num in range(1,len(engine_d.columns)-4)]\n",
    "    # Initialize the headers\n",
    "\n",
    "    engine_d.columns = Header # Insert headers for the data\n",
    "    ID = ['FD00'+str(engine_number)+'_'+str(id) for id in range(1,len(engine_d.index)+1)] \n",
    "    engine_d['ID'] = ID # Change the ID column\n",
    "\n",
    "    engine_d['Timestamp'] = str(np.nan)\n",
    "    engine_d['Matric Number'] = 'A0108484B'\n",
    "\n",
    "    return engine_d\n",
    "\n",
    "eng_d1 = csv_processing('train_FD001.txt',1)\n",
    "now = dt.utcnow()\n",
    "print(now)\n"
   ]
  },
  {
   "cell_type": "code",
   "execution_count": 65,
   "metadata": {},
   "outputs": [
    {
     "name": "stdout",
     "output_type": "stream",
     "text": [
      "2019-09-01 12:58:43.005639\n",
      "2019-09-01 12:58:43.005639\n"
     ]
    }
   ],
   "source": [
    "timestamp_d1 = list()\n",
    "timestamp_d2 = list()\n",
    "\n",
    "for rows in range(len(engine_d1.index)):\n",
    "    timestamp_d1.append(dt.now())\n",
    "\n",
    "for rows in range(len(engine_d2.index)):\n",
    "    timestamp_d2.append(dt.now())\n"
   ]
  }
 ],
 "metadata": {
  "kernelspec": {
   "display_name": "Python 3",
   "language": "python",
   "name": "python3"
  },
  "language_info": {
   "codemirror_mode": {
    "name": "ipython",
    "version": 3
   },
   "file_extension": ".py",
   "mimetype": "text/x-python",
   "name": "python",
   "nbconvert_exporter": "python",
   "pygments_lexer": "ipython3",
   "version": "3.6.3"
  }
 },
 "nbformat": 4,
 "nbformat_minor": 2
}
