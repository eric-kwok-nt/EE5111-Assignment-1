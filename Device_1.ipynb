{
 "cells": [
  {
   "cell_type": "code",
   "execution_count": 41,
   "metadata": {},
   "outputs": [
    {
     "name": "stdout",
     "output_type": "stream",
     "text": [
      "{\"state\": {\"reported\": {\"ID\": \"1\", \"Timestamp\": \"6\"}}}\n",
      "\n",
      "UPDATE: $aws/things/A0108484B/shadow/update/#\n",
      "payload = {\"state\":{\"reported\":{\"ID\":\"1\",\"Timestamp\":\"6\"}},\"metadata\":{\"reported\":{\"ID\":{\"timestamp\":1567343933},\"Timestamp\":{\"timestamp\":1567343933}}},\"version\":18,\"timestamp\":1567343933,\"clientToken\":\"66b40b54-e026-4b0b-823f-a7a99168616b\"}\n",
      "responseStatus = accepted\n",
      "token = 66b40b54-e026-4b0b-823f-a7a99168616b\n"
     ]
    }
   ],
   "source": [
    "from AWSIoTPythonSDK.MQTTLib import AWSIoTMQTTShadowClient\n",
    "import random, time\n",
    "import json\n",
    "\n",
    "# A random programmatic shadow client ID.\n",
    "SHADOW_CLIENT = \"myShadowClient\"\n",
    "\n",
    "# The unique hostname that &IoT; generated for\n",
    "# this device.\n",
    "HOST_NAME = \"a3pozjl1nqlszm-ats.iot.ap-southeast-1.amazonaws.com\"\n",
    "\n",
    "# The relative path to the correct root CA file for &IoT;,\n",
    "# which you have already saved onto this device.\n",
    "ROOT_CA = \"Amazon AWS server certificates/AmazonRootCA1.pem\"\n",
    "\n",
    "# The relative path to your private key file that\n",
    "# &IoT; generated for this device, which you\n",
    "# have already saved onto this device.\n",
    "PRIVATE_KEY = \"Amazon AWS server certificates/b9b97e55e2-private.pem.key\"\n",
    "\n",
    "# The relative path to your certificate file that\n",
    "# &IoT; generated for this device, which you\n",
    "# have already saved onto this device.\n",
    "CERT_FILE = \"Amazon AWS server certificates/b9b97e55e2-certificate.pem.crt\"\n",
    "\n",
    "# A programmatic shadow handler name prefix.\n",
    "SHADOW_HANDLER = \"A0108484B\"\n",
    "\n",
    "# Automatically called whenever the shadow is updated.\n",
    "def myShadowUpdateCallback(payload, responseStatus, token):\n",
    "  print()\n",
    "  print('UPDATE: $aws/things/' + SHADOW_HANDLER +\n",
    "    '/shadow/update/#')\n",
    "  print(\"payload = \" + payload)\n",
    "  print(\"responseStatus = \" + responseStatus)\n",
    "  print(\"token = \" + token)\n",
    "\n",
    "# Create, configure, and connect a shadow client.\n",
    "myShadowClient = AWSIoTMQTTShadowClient(SHADOW_CLIENT)\n",
    "myShadowClient.configureEndpoint(HOST_NAME, 8883)\n",
    "myShadowClient.configureCredentials(ROOT_CA, PRIVATE_KEY,\n",
    "  CERT_FILE)\n",
    "myShadowClient.configureConnectDisconnectTimeout(10)\n",
    "myShadowClient.configureMQTTOperationTimeout(5)\n",
    "myShadowClient.connect()\n",
    "\n",
    "# Create a programmatic representation of the shadow.\n",
    "myDeviceShadow = myShadowClient.createShadowHandlerWithName(\n",
    "  SHADOW_HANDLER, True)\n",
    "\n",
    "# Keep generating random test data until this script\n",
    "# stops running.\n",
    "# To stop running this script, press Ctrl+C.\n",
    "'''\n",
    "while True:\n",
    "  # Generate random True or False test data to represent\n",
    "  # okay or low moisture levels, respectively.\n",
    "  moisture = random.choice([True, False])\n",
    "\n",
    "  if moisture:\n",
    "    myDeviceShadow.shadowUpdate(\n",
    "      '{\"state\":{\"reported\":{\"moisture\":\"okay\"}}}',\n",
    "      myShadowUpdateCallback, 5)\n",
    "  else:\n",
    "    myDeviceShadow.shadowUpdate(\n",
    "      '{\"state\":{\"reported\":{\"moisture\":\"low\"}}}',\n",
    "      myShadowUpdateCallback, 5)\n",
    "\n",
    "  # Wait for this test value to be added.\n",
    "  time.sleep(60)\n",
    "'''\n",
    "msg = {\"state\":\n",
    "       {\"reported\":\n",
    "        {\"ID\": '1',\n",
    "         \"Timestamp\": '6'}}}\n",
    "json_msg = json.dumps(msg)\n",
    "myDeviceShadow.shadowUpdate(json_msg,myShadowUpdateCallback, 15)\n",
    "time.sleep(15)"
   ]
  },
  {
   "cell_type": "code",
   "execution_count": null,
   "metadata": {
    "collapsed": true
   },
   "outputs": [],
   "source": []
  }
 ],
 "metadata": {
  "kernelspec": {
   "display_name": "Python 3",
   "language": "python",
   "name": "python3"
  },
  "language_info": {
   "codemirror_mode": {
    "name": "ipython",
    "version": 3
   },
   "file_extension": ".py",
   "mimetype": "text/x-python",
   "name": "python",
   "nbconvert_exporter": "python",
   "pygments_lexer": "ipython3",
   "version": "3.6.3"
  }
 },
 "nbformat": 4,
 "nbformat_minor": 2
}
