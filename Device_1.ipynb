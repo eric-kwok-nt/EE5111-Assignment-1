{
 "cells": [
  {
   "cell_type": "code",
   "execution_count": 3,
   "metadata": {
    "scrolled": true
   },
   "outputs": [
    {
     "name": "stdout",
     "output_type": "stream",
     "text": [
      "\n",
      "UPDATE: $aws/things/A0108484B/shadow/update/#\n",
      "payload = {\"state\":{\"reported\":{\"ID\":\"FD001_1\",\"Cycle\":1,\"os 1\":-7.0E-4,\"os 2\":-4.0E-4,\"os 3\":100.0,\"sensor 1\":518.67,\"sensor 2\":641.82,\"sensor 3\":1589.7,\"sensor 4\":1400.6,\"sensor 5\":14.62,\"sensor 6\":21.61,\"sensor 7\":554.36,\"sensor 8\":2388.06,\"sensor 9\":9046.19,\"sensor 10\":1.3,\"sensor 11\":47.47,\"sensor 12\":521.66,\"sensor 13\":2388.02,\"sensor 14\":8138.62,\"sensor 15\":8.4195,\"sensor 16\":0.03,\"sensor 17\":392,\"sensor 18\":2388,\"sensor 19\":100.0,\"sensor 20\":39.06,\"sensor 21\":23.419,\"Timestamp\":\"2019-09-02 02:40:53.376590\",\"Matric Number\":\"A0108484B\"}},\"metadata\":{\"reported\":{\"ID\":{\"timestamp\":1567392055},\"Cycle\":{\"timestamp\":1567392055},\"os 1\":{\"timestamp\":1567392055},\"os 2\":{\"timestamp\":1567392055},\"os 3\":{\"timestamp\":1567392055},\"sensor 1\":{\"timestamp\":1567392055},\"sensor 2\":{\"timestamp\":1567392055},\"sensor 3\":{\"timestamp\":1567392055},\"sensor 4\":{\"timestamp\":1567392055},\"sensor 5\":{\"timestamp\":1567392055},\"sensor 6\":{\"timestamp\":1567392055},\"sensor 7\":{\"timestamp\":1567392055},\"sensor 8\":{\"timestamp\":1567392055},\"sensor 9\":{\"timestamp\":1567392055},\"sensor 10\":{\"timestamp\":1567392055},\"sensor 11\":{\"timestamp\":1567392055},\"sensor 12\":{\"timestamp\":1567392055},\"sensor 13\":{\"timestamp\":1567392055},\"sensor 14\":{\"timestamp\":1567392055},\"sensor 15\":{\"timestamp\":1567392055},\"sensor 16\":{\"timestamp\":1567392055},\"sensor 17\":{\"timestamp\":1567392055},\"sensor 18\":{\"timestamp\":1567392055},\"sensor 19\":{\"timestamp\":1567392055},\"sensor 20\":{\"timestamp\":1567392055},\"sensor 21\":{\"timestamp\":1567392055},\"Timestamp\":{\"timestamp\":1567392055},\"Matric Number\":{\"timestamp\":1567392055}}},\"version\":126,\"timestamp\":1567392055,\"clientToken\":\"6b55502d-6d79-4dfa-9970-0c5afba96d88\"}\n",
      "responseStatus = accepted\n",
      "token = 6b55502d-6d79-4dfa-9970-0c5afba96d88\n",
      "\n",
      "UPDATE: $aws/things/A0108484B/shadow/update/#\n",
      "payload = {\"state\":{\"reported\":{\"ID\":\"FD001_2\",\"Cycle\":2,\"os 1\":0.0019,\"os 2\":-3.0E-4,\"os 3\":100.0,\"sensor 1\":518.67,\"sensor 2\":642.15,\"sensor 3\":1591.82,\"sensor 4\":1403.14,\"sensor 5\":14.62,\"sensor 6\":21.61,\"sensor 7\":553.75,\"sensor 8\":2388.04,\"sensor 9\":9044.07,\"sensor 10\":1.3,\"sensor 11\":47.49,\"sensor 12\":522.28,\"sensor 13\":2388.07,\"sensor 14\":8131.49,\"sensor 15\":8.4318,\"sensor 16\":0.03,\"sensor 17\":392,\"sensor 18\":2388,\"sensor 19\":100.0,\"sensor 20\":39.0,\"sensor 21\":23.4236,\"Timestamp\":\"2019-09-02 02:40:56.419764\",\"Matric Number\":\"A0108484B\"}},\"metadata\":{\"reported\":{\"ID\":{\"timestamp\":1567392056},\"Cycle\":{\"timestamp\":1567392056},\"os 1\":{\"timestamp\":1567392056},\"os 2\":{\"timestamp\":1567392056},\"os 3\":{\"timestamp\":1567392056},\"sensor 1\":{\"timestamp\":1567392056},\"sensor 2\":{\"timestamp\":1567392056},\"sensor 3\":{\"timestamp\":1567392056},\"sensor 4\":{\"timestamp\":1567392056},\"sensor 5\":{\"timestamp\":1567392056},\"sensor 6\":{\"timestamp\":1567392056},\"sensor 7\":{\"timestamp\":1567392056},\"sensor 8\":{\"timestamp\":1567392056},\"sensor 9\":{\"timestamp\":1567392056},\"sensor 10\":{\"timestamp\":1567392056},\"sensor 11\":{\"timestamp\":1567392056},\"sensor 12\":{\"timestamp\":1567392056},\"sensor 13\":{\"timestamp\":1567392056},\"sensor 14\":{\"timestamp\":1567392056},\"sensor 15\":{\"timestamp\":1567392056},\"sensor 16\":{\"timestamp\":1567392056},\"sensor 17\":{\"timestamp\":1567392056},\"sensor 18\":{\"timestamp\":1567392056},\"sensor 19\":{\"timestamp\":1567392056},\"sensor 20\":{\"timestamp\":1567392056},\"sensor 21\":{\"timestamp\":1567392056},\"Timestamp\":{\"timestamp\":1567392056},\"Matric Number\":{\"timestamp\":1567392056}}},\"version\":127,\"timestamp\":1567392056,\"clientToken\":\"118930fc-c3c1-4a69-bc03-375bfff372d3\"}\n",
      "responseStatus = accepted\n",
      "token = 118930fc-c3c1-4a69-bc03-375bfff372d3\n",
      "\n",
      "UPDATE: $aws/things/A0108484B/shadow/update/#\n",
      "payload = {\"state\":{\"reported\":{\"ID\":\"FD001_3\",\"Cycle\":3,\"os 1\":-0.0043,\"os 2\":3.0E-4,\"os 3\":100.0,\"sensor 1\":518.67,\"sensor 2\":642.35,\"sensor 3\":1587.99,\"sensor 4\":1404.2,\"sensor 5\":14.62,\"sensor 6\":21.61,\"sensor 7\":554.26,\"sensor 8\":2388.08,\"sensor 9\":9052.94,\"sensor 10\":1.3,\"sensor 11\":47.27,\"sensor 12\":522.42,\"sensor 13\":2388.03,\"sensor 14\":8133.23,\"sensor 15\":8.4178,\"sensor 16\":0.03,\"sensor 17\":390,\"sensor 18\":2388,\"sensor 19\":100.0,\"sensor 20\":38.95,\"sensor 21\":23.3442,\"Timestamp\":\"2019-09-02 02:40:57.421034\",\"Matric Number\":\"A0108484B\"}},\"metadata\":{\"reported\":{\"ID\":{\"timestamp\":1567392057},\"Cycle\":{\"timestamp\":1567392057},\"os 1\":{\"timestamp\":1567392057},\"os 2\":{\"timestamp\":1567392057},\"os 3\":{\"timestamp\":1567392057},\"sensor 1\":{\"timestamp\":1567392057},\"sensor 2\":{\"timestamp\":1567392057},\"sensor 3\":{\"timestamp\":1567392057},\"sensor 4\":{\"timestamp\":1567392057},\"sensor 5\":{\"timestamp\":1567392057},\"sensor 6\":{\"timestamp\":1567392057},\"sensor 7\":{\"timestamp\":1567392057},\"sensor 8\":{\"timestamp\":1567392057},\"sensor 9\":{\"timestamp\":1567392057},\"sensor 10\":{\"timestamp\":1567392057},\"sensor 11\":{\"timestamp\":1567392057},\"sensor 12\":{\"timestamp\":1567392057},\"sensor 13\":{\"timestamp\":1567392057},\"sensor 14\":{\"timestamp\":1567392057},\"sensor 15\":{\"timestamp\":1567392057},\"sensor 16\":{\"timestamp\":1567392057},\"sensor 17\":{\"timestamp\":1567392057},\"sensor 18\":{\"timestamp\":1567392057},\"sensor 19\":{\"timestamp\":1567392057},\"sensor 20\":{\"timestamp\":1567392057},\"sensor 21\":{\"timestamp\":1567392057},\"Timestamp\":{\"timestamp\":1567392057},\"Matric Number\":{\"timestamp\":1567392057}}},\"version\":128,\"timestamp\":1567392057,\"clientToken\":\"7d142c1e-0515-4917-95c1-e48492a3d891\"}\n",
      "responseStatus = accepted\n",
      "token = 7d142c1e-0515-4917-95c1-e48492a3d891\n",
      "\n",
      "UPDATE: $aws/things/A0108484B/shadow/update/#\n",
      "payload = {\"state\":{\"reported\":{\"ID\":\"FD001_4\",\"Cycle\":4,\"os 1\":7.0E-4,\"os 2\":0.0,\"os 3\":100.0,\"sensor 1\":518.67,\"sensor 2\":642.35,\"sensor 3\":1582.79,\"sensor 4\":1401.87,\"sensor 5\":14.62,\"sensor 6\":21.61,\"sensor 7\":554.45,\"sensor 8\":2388.11,\"sensor 9\":9049.48,\"sensor 10\":1.3,\"sensor 11\":47.13,\"sensor 12\":522.86,\"sensor 13\":2388.08,\"sensor 14\":8133.83,\"sensor 15\":8.3682,\"sensor 16\":0.03,\"sensor 17\":392,\"sensor 18\":2388,\"sensor 19\":100.0,\"sensor 20\":38.88,\"sensor 21\":23.3739,\"Timestamp\":\"2019-09-02 02:40:58.422047\",\"Matric Number\":\"A0108484B\"}},\"metadata\":{\"reported\":{\"ID\":{\"timestamp\":1567392058},\"Cycle\":{\"timestamp\":1567392058},\"os 1\":{\"timestamp\":1567392058},\"os 2\":{\"timestamp\":1567392058},\"os 3\":{\"timestamp\":1567392058},\"sensor 1\":{\"timestamp\":1567392058},\"sensor 2\":{\"timestamp\":1567392058},\"sensor 3\":{\"timestamp\":1567392058},\"sensor 4\":{\"timestamp\":1567392058},\"sensor 5\":{\"timestamp\":1567392058},\"sensor 6\":{\"timestamp\":1567392058},\"sensor 7\":{\"timestamp\":1567392058},\"sensor 8\":{\"timestamp\":1567392058},\"sensor 9\":{\"timestamp\":1567392058},\"sensor 10\":{\"timestamp\":1567392058},\"sensor 11\":{\"timestamp\":1567392058},\"sensor 12\":{\"timestamp\":1567392058},\"sensor 13\":{\"timestamp\":1567392058},\"sensor 14\":{\"timestamp\":1567392058},\"sensor 15\":{\"timestamp\":1567392058},\"sensor 16\":{\"timestamp\":1567392058},\"sensor 17\":{\"timestamp\":1567392058},\"sensor 18\":{\"timestamp\":1567392058},\"sensor 19\":{\"timestamp\":1567392058},\"sensor 20\":{\"timestamp\":1567392058},\"sensor 21\":{\"timestamp\":1567392058},\"Timestamp\":{\"timestamp\":1567392058},\"Matric Number\":{\"timestamp\":1567392058}}},\"version\":129,\"timestamp\":1567392058,\"clientToken\":\"84ba68a5-1099-4a17-8800-2ccb1a2ba15b\"}\n",
      "responseStatus = accepted\n",
      "token = 84ba68a5-1099-4a17-8800-2ccb1a2ba15b\n",
      "\n",
      "UPDATE: $aws/things/A0108484B/shadow/update/#\n",
      "payload = {\"state\":{\"reported\":{\"ID\":\"FD001_5\",\"Cycle\":5,\"os 1\":-0.0019,\"os 2\":-2.0E-4,\"os 3\":100.0,\"sensor 1\":518.67,\"sensor 2\":642.37,\"sensor 3\":1582.85,\"sensor 4\":1406.22,\"sensor 5\":14.62,\"sensor 6\":21.61,\"sensor 7\":554.0,\"sensor 8\":2388.06,\"sensor 9\":9055.15,\"sensor 10\":1.3,\"sensor 11\":47.28,\"sensor 12\":522.19,\"sensor 13\":2388.04,\"sensor 14\":8133.8,\"sensor 15\":8.4294,\"sensor 16\":0.03,\"sensor 17\":393,\"sensor 18\":2388,\"sensor 19\":100.0,\"sensor 20\":38.9,\"sensor 21\":23.4044,\"Timestamp\":\"2019-09-02 02:40:59.423105\",\"Matric Number\":\"A0108484B\"}},\"metadata\":{\"reported\":{\"ID\":{\"timestamp\":1567392059},\"Cycle\":{\"timestamp\":1567392059},\"os 1\":{\"timestamp\":1567392059},\"os 2\":{\"timestamp\":1567392059},\"os 3\":{\"timestamp\":1567392059},\"sensor 1\":{\"timestamp\":1567392059},\"sensor 2\":{\"timestamp\":1567392059},\"sensor 3\":{\"timestamp\":1567392059},\"sensor 4\":{\"timestamp\":1567392059},\"sensor 5\":{\"timestamp\":1567392059},\"sensor 6\":{\"timestamp\":1567392059},\"sensor 7\":{\"timestamp\":1567392059},\"sensor 8\":{\"timestamp\":1567392059},\"sensor 9\":{\"timestamp\":1567392059},\"sensor 10\":{\"timestamp\":1567392059},\"sensor 11\":{\"timestamp\":1567392059},\"sensor 12\":{\"timestamp\":1567392059},\"sensor 13\":{\"timestamp\":1567392059},\"sensor 14\":{\"timestamp\":1567392059},\"sensor 15\":{\"timestamp\":1567392059},\"sensor 16\":{\"timestamp\":1567392059},\"sensor 17\":{\"timestamp\":1567392059},\"sensor 18\":{\"timestamp\":1567392059},\"sensor 19\":{\"timestamp\":1567392059},\"sensor 20\":{\"timestamp\":1567392059},\"sensor 21\":{\"timestamp\":1567392059},\"Timestamp\":{\"timestamp\":1567392059},\"Matric Number\":{\"timestamp\":1567392059}}},\"version\":130,\"timestamp\":1567392059,\"clientToken\":\"c7ad16e3-a402-4d90-8ff0-75472276004c\"}\n",
      "responseStatus = accepted\n",
      "token = c7ad16e3-a402-4d90-8ff0-75472276004c\n"
     ]
    },
    {
     "name": "stdout",
     "output_type": "stream",
     "text": [
      "\n",
      "UPDATE: $aws/things/A0108484B/shadow/update/#\n",
      "payload = {\"state\":{\"reported\":{\"ID\":\"FD001_6\",\"Cycle\":6,\"os 1\":-0.0043,\"os 2\":-1.0E-4,\"os 3\":100.0,\"sensor 1\":518.67,\"sensor 2\":642.1,\"sensor 3\":1584.47,\"sensor 4\":1398.37,\"sensor 5\":14.62,\"sensor 6\":21.61,\"sensor 7\":554.67,\"sensor 8\":2388.02,\"sensor 9\":9049.68,\"sensor 10\":1.3,\"sensor 11\":47.16,\"sensor 12\":521.68,\"sensor 13\":2388.03,\"sensor 14\":8132.85,\"sensor 15\":8.4108,\"sensor 16\":0.03,\"sensor 17\":391,\"sensor 18\":2388,\"sensor 19\":100.0,\"sensor 20\":38.98,\"sensor 21\":23.3669,\"Timestamp\":\"2019-09-02 02:41:00.424774\",\"Matric Number\":\"A0108484B\"}},\"metadata\":{\"reported\":{\"ID\":{\"timestamp\":1567392060},\"Cycle\":{\"timestamp\":1567392060},\"os 1\":{\"timestamp\":1567392060},\"os 2\":{\"timestamp\":1567392060},\"os 3\":{\"timestamp\":1567392060},\"sensor 1\":{\"timestamp\":1567392060},\"sensor 2\":{\"timestamp\":1567392060},\"sensor 3\":{\"timestamp\":1567392060},\"sensor 4\":{\"timestamp\":1567392060},\"sensor 5\":{\"timestamp\":1567392060},\"sensor 6\":{\"timestamp\":1567392060},\"sensor 7\":{\"timestamp\":1567392060},\"sensor 8\":{\"timestamp\":1567392060},\"sensor 9\":{\"timestamp\":1567392060},\"sensor 10\":{\"timestamp\":1567392060},\"sensor 11\":{\"timestamp\":1567392060},\"sensor 12\":{\"timestamp\":1567392060},\"sensor 13\":{\"timestamp\":1567392060},\"sensor 14\":{\"timestamp\":1567392060},\"sensor 15\":{\"timestamp\":1567392060},\"sensor 16\":{\"timestamp\":1567392060},\"sensor 17\":{\"timestamp\":1567392060},\"sensor 18\":{\"timestamp\":1567392060},\"sensor 19\":{\"timestamp\":1567392060},\"sensor 20\":{\"timestamp\":1567392060},\"sensor 21\":{\"timestamp\":1567392060},\"Timestamp\":{\"timestamp\":1567392060},\"Matric Number\":{\"timestamp\":1567392060}}},\"version\":131,\"timestamp\":1567392060,\"clientToken\":\"20797c39-1892-4bea-af9e-4886746328af\"}\n",
      "responseStatus = accepted\n",
      "token = 20797c39-1892-4bea-af9e-4886746328af\n",
      "\n",
      "UPDATE: $aws/things/A0108484B/shadow/update/#\n",
      "payload = {\"state\":{\"reported\":{\"ID\":\"FD001_7\",\"Cycle\":7,\"os 1\":0.001,\"os 2\":1.0E-4,\"os 3\":100.0,\"sensor 1\":518.67,\"sensor 2\":642.48,\"sensor 3\":1592.32,\"sensor 4\":1397.77,\"sensor 5\":14.62,\"sensor 6\":21.61,\"sensor 7\":554.34,\"sensor 8\":2388.02,\"sensor 9\":9059.13,\"sensor 10\":1.3,\"sensor 11\":47.36,\"sensor 12\":522.32,\"sensor 13\":2388.03,\"sensor 14\":8132.32,\"sensor 15\":8.3974,\"sensor 16\":0.03,\"sensor 17\":392,\"sensor 18\":2388,\"sensor 19\":100.0,\"sensor 20\":39.1,\"sensor 21\":23.3774,\"Timestamp\":\"2019-09-02 02:41:01.426514\",\"Matric Number\":\"A0108484B\"}},\"metadata\":{\"reported\":{\"ID\":{\"timestamp\":1567392061},\"Cycle\":{\"timestamp\":1567392061},\"os 1\":{\"timestamp\":1567392061},\"os 2\":{\"timestamp\":1567392061},\"os 3\":{\"timestamp\":1567392061},\"sensor 1\":{\"timestamp\":1567392061},\"sensor 2\":{\"timestamp\":1567392061},\"sensor 3\":{\"timestamp\":1567392061},\"sensor 4\":{\"timestamp\":1567392061},\"sensor 5\":{\"timestamp\":1567392061},\"sensor 6\":{\"timestamp\":1567392061},\"sensor 7\":{\"timestamp\":1567392061},\"sensor 8\":{\"timestamp\":1567392061},\"sensor 9\":{\"timestamp\":1567392061},\"sensor 10\":{\"timestamp\":1567392061},\"sensor 11\":{\"timestamp\":1567392061},\"sensor 12\":{\"timestamp\":1567392061},\"sensor 13\":{\"timestamp\":1567392061},\"sensor 14\":{\"timestamp\":1567392061},\"sensor 15\":{\"timestamp\":1567392061},\"sensor 16\":{\"timestamp\":1567392061},\"sensor 17\":{\"timestamp\":1567392061},\"sensor 18\":{\"timestamp\":1567392061},\"sensor 19\":{\"timestamp\":1567392061},\"sensor 20\":{\"timestamp\":1567392061},\"sensor 21\":{\"timestamp\":1567392061},\"Timestamp\":{\"timestamp\":1567392061},\"Matric Number\":{\"timestamp\":1567392061}}},\"version\":132,\"timestamp\":1567392061,\"clientToken\":\"36ec8d4f-9b27-4aeb-8e4a-701433c80fcf\"}\n",
      "responseStatus = accepted\n",
      "token = 36ec8d4f-9b27-4aeb-8e4a-701433c80fcf\n",
      "\n",
      "UPDATE: $aws/things/A0108484B/shadow/update/#\n",
      "payload = {\"state\":{\"reported\":{\"ID\":\"FD001_8\",\"Cycle\":8,\"os 1\":-0.0034,\"os 2\":3.0E-4,\"os 3\":100.0,\"sensor 1\":518.67,\"sensor 2\":642.56,\"sensor 3\":1582.96,\"sensor 4\":1400.97,\"sensor 5\":14.62,\"sensor 6\":21.61,\"sensor 7\":553.85,\"sensor 8\":2388.0,\"sensor 9\":9040.8,\"sensor 10\":1.3,\"sensor 11\":47.24,\"sensor 12\":522.47,\"sensor 13\":2388.03,\"sensor 14\":8131.07,\"sensor 15\":8.4076,\"sensor 16\":0.03,\"sensor 17\":391,\"sensor 18\":2388,\"sensor 19\":100.0,\"sensor 20\":38.97,\"sensor 21\":23.3106,\"Timestamp\":\"2019-09-02 02:41:02.427655\",\"Matric Number\":\"A0108484B\"}},\"metadata\":{\"reported\":{\"ID\":{\"timestamp\":1567392062},\"Cycle\":{\"timestamp\":1567392062},\"os 1\":{\"timestamp\":1567392062},\"os 2\":{\"timestamp\":1567392062},\"os 3\":{\"timestamp\":1567392062},\"sensor 1\":{\"timestamp\":1567392062},\"sensor 2\":{\"timestamp\":1567392062},\"sensor 3\":{\"timestamp\":1567392062},\"sensor 4\":{\"timestamp\":1567392062},\"sensor 5\":{\"timestamp\":1567392062},\"sensor 6\":{\"timestamp\":1567392062},\"sensor 7\":{\"timestamp\":1567392062},\"sensor 8\":{\"timestamp\":1567392062},\"sensor 9\":{\"timestamp\":1567392062},\"sensor 10\":{\"timestamp\":1567392062},\"sensor 11\":{\"timestamp\":1567392062},\"sensor 12\":{\"timestamp\":1567392062},\"sensor 13\":{\"timestamp\":1567392062},\"sensor 14\":{\"timestamp\":1567392062},\"sensor 15\":{\"timestamp\":1567392062},\"sensor 16\":{\"timestamp\":1567392062},\"sensor 17\":{\"timestamp\":1567392062},\"sensor 18\":{\"timestamp\":1567392062},\"sensor 19\":{\"timestamp\":1567392062},\"sensor 20\":{\"timestamp\":1567392062},\"sensor 21\":{\"timestamp\":1567392062},\"Timestamp\":{\"timestamp\":1567392062},\"Matric Number\":{\"timestamp\":1567392062}}},\"version\":133,\"timestamp\":1567392062,\"clientToken\":\"1e4e55e3-730c-4875-96c8-11a306ab909c\"}\n",
      "responseStatus = accepted\n",
      "token = 1e4e55e3-730c-4875-96c8-11a306ab909c\n",
      "\n",
      "UPDATE: $aws/things/A0108484B/shadow/update/#\n",
      "payload = {\"state\":{\"reported\":{\"ID\":\"FD001_9\",\"Cycle\":9,\"os 1\":8.0E-4,\"os 2\":1.0E-4,\"os 3\":100.0,\"sensor 1\":518.67,\"sensor 2\":642.12,\"sensor 3\":1590.98,\"sensor 4\":1394.8,\"sensor 5\":14.62,\"sensor 6\":21.61,\"sensor 7\":553.69,\"sensor 8\":2388.05,\"sensor 9\":9046.46,\"sensor 10\":1.3,\"sensor 11\":47.29,\"sensor 12\":521.79,\"sensor 13\":2388.05,\"sensor 14\":8125.69,\"sensor 15\":8.3728,\"sensor 16\":0.03,\"sensor 17\":392,\"sensor 18\":2388,\"sensor 19\":100.0,\"sensor 20\":39.05,\"sensor 21\":23.4066,\"Timestamp\":\"2019-09-02 02:41:03.429235\",\"Matric Number\":\"A0108484B\"}},\"metadata\":{\"reported\":{\"ID\":{\"timestamp\":1567392063},\"Cycle\":{\"timestamp\":1567392063},\"os 1\":{\"timestamp\":1567392063},\"os 2\":{\"timestamp\":1567392063},\"os 3\":{\"timestamp\":1567392063},\"sensor 1\":{\"timestamp\":1567392063},\"sensor 2\":{\"timestamp\":1567392063},\"sensor 3\":{\"timestamp\":1567392063},\"sensor 4\":{\"timestamp\":1567392063},\"sensor 5\":{\"timestamp\":1567392063},\"sensor 6\":{\"timestamp\":1567392063},\"sensor 7\":{\"timestamp\":1567392063},\"sensor 8\":{\"timestamp\":1567392063},\"sensor 9\":{\"timestamp\":1567392063},\"sensor 10\":{\"timestamp\":1567392063},\"sensor 11\":{\"timestamp\":1567392063},\"sensor 12\":{\"timestamp\":1567392063},\"sensor 13\":{\"timestamp\":1567392063},\"sensor 14\":{\"timestamp\":1567392063},\"sensor 15\":{\"timestamp\":1567392063},\"sensor 16\":{\"timestamp\":1567392063},\"sensor 17\":{\"timestamp\":1567392063},\"sensor 18\":{\"timestamp\":1567392063},\"sensor 19\":{\"timestamp\":1567392063},\"sensor 20\":{\"timestamp\":1567392063},\"sensor 21\":{\"timestamp\":1567392063},\"Timestamp\":{\"timestamp\":1567392063},\"Matric Number\":{\"timestamp\":1567392063}}},\"version\":134,\"timestamp\":1567392063,\"clientToken\":\"d0a2c488-0337-4fe4-885e-53f7876975d6\"}\n",
      "responseStatus = accepted\n",
      "token = d0a2c488-0337-4fe4-885e-53f7876975d6\n",
      "\n",
      "UPDATE: $aws/things/A0108484B/shadow/update/#\n",
      "payload = {\"state\":{\"reported\":{\"ID\":\"FD001_10\",\"Cycle\":10,\"os 1\":-0.0033,\"os 2\":1.0E-4,\"os 3\":100.0,\"sensor 1\":518.67,\"sensor 2\":641.71,\"sensor 3\":1591.24,\"sensor 4\":1400.46,\"sensor 5\":14.62,\"sensor 6\":21.61,\"sensor 7\":553.59,\"sensor 8\":2388.05,\"sensor 9\":9051.7,\"sensor 10\":1.3,\"sensor 11\":47.03,\"sensor 12\":521.79,\"sensor 13\":2388.06,\"sensor 14\":8129.38,\"sensor 15\":8.4286,\"sensor 16\":0.03,\"sensor 17\":393,\"sensor 18\":2388,\"sensor 19\":100.0,\"sensor 20\":38.95,\"sensor 21\":23.4694,\"Timestamp\":\"2019-09-02 02:41:04.431166\",\"Matric Number\":\"A0108484B\"}},\"metadata\":{\"reported\":{\"ID\":{\"timestamp\":1567392064},\"Cycle\":{\"timestamp\":1567392064},\"os 1\":{\"timestamp\":1567392064},\"os 2\":{\"timestamp\":1567392064},\"os 3\":{\"timestamp\":1567392064},\"sensor 1\":{\"timestamp\":1567392064},\"sensor 2\":{\"timestamp\":1567392064},\"sensor 3\":{\"timestamp\":1567392064},\"sensor 4\":{\"timestamp\":1567392064},\"sensor 5\":{\"timestamp\":1567392064},\"sensor 6\":{\"timestamp\":1567392064},\"sensor 7\":{\"timestamp\":1567392064},\"sensor 8\":{\"timestamp\":1567392064},\"sensor 9\":{\"timestamp\":1567392064},\"sensor 10\":{\"timestamp\":1567392064},\"sensor 11\":{\"timestamp\":1567392064},\"sensor 12\":{\"timestamp\":1567392064},\"sensor 13\":{\"timestamp\":1567392064},\"sensor 14\":{\"timestamp\":1567392064},\"sensor 15\":{\"timestamp\":1567392064},\"sensor 16\":{\"timestamp\":1567392064},\"sensor 17\":{\"timestamp\":1567392064},\"sensor 18\":{\"timestamp\":1567392064},\"sensor 19\":{\"timestamp\":1567392064},\"sensor 20\":{\"timestamp\":1567392064},\"sensor 21\":{\"timestamp\":1567392064},\"Timestamp\":{\"timestamp\":1567392064},\"Matric Number\":{\"timestamp\":1567392064}}},\"version\":135,\"timestamp\":1567392064,\"clientToken\":\"159aa263-fb90-4abe-b49d-a66e89209965\"}\n",
      "responseStatus = accepted\n",
      "token = 159aa263-fb90-4abe-b49d-a66e89209965\n"
     ]
    },
    {
     "name": "stdout",
     "output_type": "stream",
     "text": [
      "\n",
      "UPDATE: $aws/things/A0108484B/shadow/update/#\n",
      "payload = {\"state\":{\"reported\":{\"ID\":\"FD001_11\",\"Cycle\":11,\"os 1\":0.0018,\"os 2\":-3.0E-4,\"os 3\":100.0,\"sensor 1\":518.67,\"sensor 2\":642.28,\"sensor 3\":1581.75,\"sensor 4\":1400.64,\"sensor 5\":14.62,\"sensor 6\":21.61,\"sensor 7\":554.54,\"sensor 8\":2388.05,\"sensor 9\":9049.61,\"sensor 10\":1.3,\"sensor 11\":47.15,\"sensor 12\":521.4,\"sensor 13\":2388.01,\"sensor 14\":8140.58,\"sensor 15\":8.434,\"sensor 16\":0.03,\"sensor 17\":392,\"sensor 18\":2388,\"sensor 19\":100.0,\"sensor 20\":38.94,\"sensor 21\":23.4787,\"Timestamp\":\"2019-09-02 02:41:05.433081\",\"Matric Number\":\"A0108484B\"}},\"metadata\":{\"reported\":{\"ID\":{\"timestamp\":1567392065},\"Cycle\":{\"timestamp\":1567392065},\"os 1\":{\"timestamp\":1567392065},\"os 2\":{\"timestamp\":1567392065},\"os 3\":{\"timestamp\":1567392065},\"sensor 1\":{\"timestamp\":1567392065},\"sensor 2\":{\"timestamp\":1567392065},\"sensor 3\":{\"timestamp\":1567392065},\"sensor 4\":{\"timestamp\":1567392065},\"sensor 5\":{\"timestamp\":1567392065},\"sensor 6\":{\"timestamp\":1567392065},\"sensor 7\":{\"timestamp\":1567392065},\"sensor 8\":{\"timestamp\":1567392065},\"sensor 9\":{\"timestamp\":1567392065},\"sensor 10\":{\"timestamp\":1567392065},\"sensor 11\":{\"timestamp\":1567392065},\"sensor 12\":{\"timestamp\":1567392065},\"sensor 13\":{\"timestamp\":1567392065},\"sensor 14\":{\"timestamp\":1567392065},\"sensor 15\":{\"timestamp\":1567392065},\"sensor 16\":{\"timestamp\":1567392065},\"sensor 17\":{\"timestamp\":1567392065},\"sensor 18\":{\"timestamp\":1567392065},\"sensor 19\":{\"timestamp\":1567392065},\"sensor 20\":{\"timestamp\":1567392065},\"sensor 21\":{\"timestamp\":1567392065},\"Timestamp\":{\"timestamp\":1567392065},\"Matric Number\":{\"timestamp\":1567392065}}},\"version\":136,\"timestamp\":1567392065,\"clientToken\":\"847c5cad-e53d-4858-8a36-6a5ff28637a7\"}\n",
      "responseStatus = accepted\n",
      "token = 847c5cad-e53d-4858-8a36-6a5ff28637a7\n"
     ]
    },
    {
     "name": "stderr",
     "output_type": "stream",
     "text": [
      "Offline request queue has been disabled\n"
     ]
    },
    {
     "ename": "publishQueueDisabledException",
     "evalue": "",
     "output_type": "error",
     "traceback": [
      "\u001b[1;31m---------------------------------------------------------------------------\u001b[0m",
      "\u001b[1;31mpublishQueueDisabledException\u001b[0m             Traceback (most recent call last)",
      "\u001b[1;32m<ipython-input-3-d535453a0a48>\u001b[0m in \u001b[0;36m<module>\u001b[1;34m()\u001b[0m\n\u001b[0;32m     61\u001b[0m     \u001b[0mjson_line\u001b[0m \u001b[1;33m=\u001b[0m \u001b[0meng_d1\u001b[0m\u001b[1;33m.\u001b[0m\u001b[0miloc\u001b[0m\u001b[1;33m[\u001b[0m\u001b[0mi\u001b[0m\u001b[1;33m]\u001b[0m\u001b[1;33m.\u001b[0m\u001b[0mto_json\u001b[0m\u001b[1;33m(\u001b[0m\u001b[1;33m)\u001b[0m \u001b[1;31m# To convert the csv line into json format\u001b[0m\u001b[1;33m\u001b[0m\u001b[0m\n\u001b[0;32m     62\u001b[0m     \u001b[0mappended_js_l\u001b[0m \u001b[1;33m=\u001b[0m \u001b[1;34m'{\"state\":{\"reported\":'\u001b[0m\u001b[1;33m+\u001b[0m\u001b[0mjson_line\u001b[0m\u001b[1;33m+\u001b[0m\u001b[1;34m'}}'\u001b[0m\u001b[1;33m\u001b[0m\u001b[0m\n\u001b[1;32m---> 63\u001b[1;33m     \u001b[0mmyDeviceShadow\u001b[0m\u001b[1;33m.\u001b[0m\u001b[0mshadowUpdate\u001b[0m\u001b[1;33m(\u001b[0m\u001b[0mappended_js_l\u001b[0m\u001b[1;33m,\u001b[0m\u001b[0mmyShadowUpdateCallback\u001b[0m\u001b[1;33m,\u001b[0m \u001b[1;36m5\u001b[0m\u001b[1;33m)\u001b[0m\u001b[1;33m\u001b[0m\u001b[0m\n\u001b[0m\u001b[0;32m     64\u001b[0m     \u001b[0mtime\u001b[0m\u001b[1;33m.\u001b[0m\u001b[0msleep\u001b[0m\u001b[1;33m(\u001b[0m\u001b[1;36m1\u001b[0m\u001b[1;33m)\u001b[0m\u001b[1;33m\u001b[0m\u001b[0m\n",
      "\u001b[1;32mC:\\ProgramData\\Anaconda3\\lib\\site-packages\\AWSIoTPythonSDK\\core\\shadow\\deviceShadow.py\u001b[0m in \u001b[0;36mshadowUpdate\u001b[1;34m(self, srcJSONPayload, srcCallback, srcTimeout)\u001b[0m\n\u001b[0;32m    358\u001b[0m                 \u001b[0mself\u001b[0m\u001b[1;33m.\u001b[0m\u001b[0m_logger\u001b[0m\u001b[1;33m.\u001b[0m\u001b[0minfo\u001b[0m\u001b[1;33m(\u001b[0m\u001b[1;34m\"Subscribed to update accepted/rejected topics for deviceShadow: \"\u001b[0m \u001b[1;33m+\u001b[0m \u001b[0mself\u001b[0m\u001b[1;33m.\u001b[0m\u001b[0m_shadowName\u001b[0m\u001b[1;33m)\u001b[0m\u001b[1;33m\u001b[0m\u001b[0m\n\u001b[0;32m    359\u001b[0m             \u001b[1;31m# One publish\u001b[0m\u001b[1;33m\u001b[0m\u001b[1;33m\u001b[0m\u001b[0m\n\u001b[1;32m--> 360\u001b[1;33m             \u001b[0mself\u001b[0m\u001b[1;33m.\u001b[0m\u001b[0m_shadowManagerHandler\u001b[0m\u001b[1;33m.\u001b[0m\u001b[0mbasicShadowPublish\u001b[0m\u001b[1;33m(\u001b[0m\u001b[0mself\u001b[0m\u001b[1;33m.\u001b[0m\u001b[0m_shadowName\u001b[0m\u001b[1;33m,\u001b[0m \u001b[1;34m\"update\"\u001b[0m\u001b[1;33m,\u001b[0m \u001b[0mJSONPayloadWithToken\u001b[0m\u001b[1;33m)\u001b[0m\u001b[1;33m\u001b[0m\u001b[0m\n\u001b[0m\u001b[0;32m    361\u001b[0m             \u001b[1;31m# Start the timer\u001b[0m\u001b[1;33m\u001b[0m\u001b[1;33m\u001b[0m\u001b[0m\n\u001b[0;32m    362\u001b[0m             \u001b[0mself\u001b[0m\u001b[1;33m.\u001b[0m\u001b[0m_tokenPool\u001b[0m\u001b[1;33m[\u001b[0m\u001b[0mcurrentToken\u001b[0m\u001b[1;33m]\u001b[0m\u001b[1;33m.\u001b[0m\u001b[0mstart\u001b[0m\u001b[1;33m(\u001b[0m\u001b[1;33m)\u001b[0m\u001b[1;33m\u001b[0m\u001b[0m\n",
      "\u001b[1;32mC:\\ProgramData\\Anaconda3\\lib\\site-packages\\AWSIoTPythonSDK\\core\\shadow\\shadowManager.py\u001b[0m in \u001b[0;36mbasicShadowPublish\u001b[1;34m(self, srcShadowName, srcShadowAction, srcPayload)\u001b[0m\n\u001b[0;32m     60\u001b[0m     \u001b[1;32mdef\u001b[0m \u001b[0mbasicShadowPublish\u001b[0m\u001b[1;33m(\u001b[0m\u001b[0mself\u001b[0m\u001b[1;33m,\u001b[0m \u001b[0msrcShadowName\u001b[0m\u001b[1;33m,\u001b[0m \u001b[0msrcShadowAction\u001b[0m\u001b[1;33m,\u001b[0m \u001b[0msrcPayload\u001b[0m\u001b[1;33m)\u001b[0m\u001b[1;33m:\u001b[0m\u001b[1;33m\u001b[0m\u001b[0m\n\u001b[0;32m     61\u001b[0m         \u001b[0mcurrentShadowAction\u001b[0m \u001b[1;33m=\u001b[0m \u001b[0m_shadowAction\u001b[0m\u001b[1;33m(\u001b[0m\u001b[0msrcShadowName\u001b[0m\u001b[1;33m,\u001b[0m \u001b[0msrcShadowAction\u001b[0m\u001b[1;33m)\u001b[0m\u001b[1;33m\u001b[0m\u001b[0m\n\u001b[1;32m---> 62\u001b[1;33m         \u001b[0mself\u001b[0m\u001b[1;33m.\u001b[0m\u001b[0m_mqttCoreHandler\u001b[0m\u001b[1;33m.\u001b[0m\u001b[0mpublish\u001b[0m\u001b[1;33m(\u001b[0m\u001b[0mcurrentShadowAction\u001b[0m\u001b[1;33m.\u001b[0m\u001b[0mgetTopicGeneral\u001b[0m\u001b[1;33m(\u001b[0m\u001b[1;33m)\u001b[0m\u001b[1;33m,\u001b[0m \u001b[0msrcPayload\u001b[0m\u001b[1;33m,\u001b[0m \u001b[1;36m0\u001b[0m\u001b[1;33m,\u001b[0m \u001b[1;32mFalse\u001b[0m\u001b[1;33m)\u001b[0m\u001b[1;33m\u001b[0m\u001b[0m\n\u001b[0m\u001b[0;32m     63\u001b[0m \u001b[1;33m\u001b[0m\u001b[0m\n\u001b[0;32m     64\u001b[0m     \u001b[1;32mdef\u001b[0m \u001b[0mbasicShadowSubscribe\u001b[0m\u001b[1;33m(\u001b[0m\u001b[0mself\u001b[0m\u001b[1;33m,\u001b[0m \u001b[0msrcShadowName\u001b[0m\u001b[1;33m,\u001b[0m \u001b[0msrcShadowAction\u001b[0m\u001b[1;33m,\u001b[0m \u001b[0msrcCallback\u001b[0m\u001b[1;33m)\u001b[0m\u001b[1;33m:\u001b[0m\u001b[1;33m\u001b[0m\u001b[0m\n",
      "\u001b[1;32mC:\\ProgramData\\Anaconda3\\lib\\site-packages\\AWSIoTPythonSDK\\core\\protocol\\mqtt_core.py\u001b[0m in \u001b[0;36mpublish\u001b[1;34m(self, topic, payload, qos, retain)\u001b[0m\n\u001b[0;32m    263\u001b[0m         \u001b[0mret\u001b[0m \u001b[1;33m=\u001b[0m \u001b[1;32mFalse\u001b[0m\u001b[1;33m\u001b[0m\u001b[0m\n\u001b[0;32m    264\u001b[0m         \u001b[1;32mif\u001b[0m \u001b[0mClientStatus\u001b[0m\u001b[1;33m.\u001b[0m\u001b[0mSTABLE\u001b[0m \u001b[1;33m!=\u001b[0m \u001b[0mself\u001b[0m\u001b[1;33m.\u001b[0m\u001b[0m_client_status\u001b[0m\u001b[1;33m.\u001b[0m\u001b[0mget_status\u001b[0m\u001b[1;33m(\u001b[0m\u001b[1;33m)\u001b[0m\u001b[1;33m:\u001b[0m\u001b[1;33m\u001b[0m\u001b[0m\n\u001b[1;32m--> 265\u001b[1;33m             \u001b[0mself\u001b[0m\u001b[1;33m.\u001b[0m\u001b[0m_handle_offline_request\u001b[0m\u001b[1;33m(\u001b[0m\u001b[0mRequestTypes\u001b[0m\u001b[1;33m.\u001b[0m\u001b[0mPUBLISH\u001b[0m\u001b[1;33m,\u001b[0m \u001b[1;33m(\u001b[0m\u001b[0mtopic\u001b[0m\u001b[1;33m,\u001b[0m \u001b[0mpayload\u001b[0m\u001b[1;33m,\u001b[0m \u001b[0mqos\u001b[0m\u001b[1;33m,\u001b[0m \u001b[0mretain\u001b[0m\u001b[1;33m)\u001b[0m\u001b[1;33m)\u001b[0m\u001b[1;33m\u001b[0m\u001b[0m\n\u001b[0m\u001b[0;32m    266\u001b[0m         \u001b[1;32melse\u001b[0m\u001b[1;33m:\u001b[0m\u001b[1;33m\u001b[0m\u001b[0m\n\u001b[0;32m    267\u001b[0m             \u001b[1;32mif\u001b[0m \u001b[0mqos\u001b[0m \u001b[1;33m>\u001b[0m \u001b[1;36m0\u001b[0m\u001b[1;33m:\u001b[0m\u001b[1;33m\u001b[0m\u001b[0m\n",
      "\u001b[1;32mC:\\ProgramData\\Anaconda3\\lib\\site-packages\\AWSIoTPythonSDK\\core\\protocol\\mqtt_core.py\u001b[0m in \u001b[0;36m_handle_offline_request\u001b[1;34m(self, type, data)\u001b[0m\n\u001b[0;32m    368\u001b[0m         \u001b[1;32mif\u001b[0m \u001b[0mAppendResults\u001b[0m\u001b[1;33m.\u001b[0m\u001b[0mAPPEND_FAILURE_QUEUE_DISABLED\u001b[0m \u001b[1;33m==\u001b[0m \u001b[0mappend_result\u001b[0m\u001b[1;33m:\u001b[0m\u001b[1;33m\u001b[0m\u001b[0m\n\u001b[0;32m    369\u001b[0m             \u001b[0mself\u001b[0m\u001b[1;33m.\u001b[0m\u001b[0m_logger\u001b[0m\u001b[1;33m.\u001b[0m\u001b[0merror\u001b[0m\u001b[1;33m(\u001b[0m\u001b[1;34m\"Offline request queue has been disabled\"\u001b[0m\u001b[1;33m)\u001b[0m\u001b[1;33m\u001b[0m\u001b[0m\n\u001b[1;32m--> 370\u001b[1;33m             \u001b[1;32mraise\u001b[0m \u001b[0mself\u001b[0m\u001b[1;33m.\u001b[0m\u001b[0m_offline_request_queue_disabled_exceptions\u001b[0m\u001b[1;33m[\u001b[0m\u001b[0mtype\u001b[0m\u001b[1;33m]\u001b[0m\u001b[1;33m\u001b[0m\u001b[0m\n\u001b[0m\u001b[0;32m    371\u001b[0m         \u001b[1;32mif\u001b[0m \u001b[0mAppendResults\u001b[0m\u001b[1;33m.\u001b[0m\u001b[0mAPPEND_FAILURE_QUEUE_FULL\u001b[0m \u001b[1;33m==\u001b[0m \u001b[0mappend_result\u001b[0m\u001b[1;33m:\u001b[0m\u001b[1;33m\u001b[0m\u001b[0m\n\u001b[0;32m    372\u001b[0m             \u001b[0mself\u001b[0m\u001b[1;33m.\u001b[0m\u001b[0m_logger\u001b[0m\u001b[1;33m.\u001b[0m\u001b[0merror\u001b[0m\u001b[1;33m(\u001b[0m\u001b[1;34m\"Offline request queue is full\"\u001b[0m\u001b[1;33m)\u001b[0m\u001b[1;33m\u001b[0m\u001b[0m\n",
      "\u001b[1;31mpublishQueueDisabledException\u001b[0m: "
     ]
    }
   ],
   "source": [
    "from AWSIoTPythonSDK.MQTTLib import AWSIoTMQTTShadowClient\n",
    "import random, time\n",
    "import json\n",
    "import pandas as pd\n",
    "from datetime import datetime as dt\n",
    "from ee5111_libraries import *\n",
    "\n",
    "# A random programmatic shadow client ID.\n",
    "SHADOW_CLIENT = \"myShadowClient\"\n",
    "\n",
    "# The unique hostname that &IoT; generated for\n",
    "# this device.\n",
    "HOST_NAME = \"a3pozjl1nqlszm-ats.iot.ap-southeast-1.amazonaws.com\"\n",
    "\n",
    "# The relative path to the correct root CA file for &IoT;,\n",
    "# which you have already saved onto this device.\n",
    "ROOT_CA = \"Amazon AWS server certificates/AmazonRootCA1.pem\"\n",
    "\n",
    "# The relative path to your private key file that\n",
    "# &IoT; generated for this device, which you\n",
    "# have already saved onto this device.\n",
    "PRIVATE_KEY = \"Amazon AWS server certificates/b9b97e55e2-private.pem.key\"\n",
    "\n",
    "# The relative path to your certificate file that\n",
    "# &IoT; generated for this device, which you\n",
    "# have already saved onto this device.\n",
    "CERT_FILE = \"Amazon AWS server certificates/b9b97e55e2-certificate.pem.crt\"\n",
    "\n",
    "# A programmatic shadow handler name prefix.\n",
    "SHADOW_HANDLER = \"A0108484B\"\n",
    "\n",
    "# Automatically called whenever the shadow is updated.\n",
    "def myShadowUpdateCallback(payload, responseStatus, token):\n",
    "  print()\n",
    "  print('UPDATE: $aws/things/' + SHADOW_HANDLER +\n",
    "    '/shadow/update/#')\n",
    "  print(\"payload = \" + payload)\n",
    "  print(\"responseStatus = \" + responseStatus)\n",
    "  print(\"token = \" + token)\n",
    "\n",
    "# Create, configure, and connect a shadow client.\n",
    "myShadowClient = AWSIoTMQTTShadowClient(SHADOW_CLIENT)\n",
    "myShadowClient.configureEndpoint(HOST_NAME, 8883)\n",
    "myShadowClient.configureCredentials(ROOT_CA, PRIVATE_KEY,\n",
    "  CERT_FILE)\n",
    "myShadowClient.configureConnectDisconnectTimeout(10)\n",
    "myShadowClient.configureMQTTOperationTimeout(5)\n",
    "myShadowClient.connect()\n",
    "\n",
    "# Create a programmatic representation of the shadow.\n",
    "myDeviceShadow = myShadowClient.createShadowHandlerWithName(\n",
    "  SHADOW_HANDLER, True)\n",
    "\n",
    "# stops running.\n",
    "# To stop running this script, press Ctrl+C.\n",
    "\n",
    "eng_d1 = csv_processing('train_FD001.txt',1) # Obtain a pd csv obj for engine number 1\n",
    "no_of_lines = 100 # Number of lines to be published\n",
    "for i in range(no_of_lines):\n",
    "    eng_d1.at[i,'Timestamp'] = str(dt.utcnow())\n",
    "    json_line = eng_d1.iloc[i].to_json() # To convert the csv line into json format\n",
    "    appended_js_l = '{\"state\":{\"reported\":'+json_line+'}}'\n",
    "    myDeviceShadow.shadowUpdate(appended_js_l,myShadowUpdateCallback, 5)\n",
    "    time.sleep(1)"
   ]
  },
  {
   "cell_type": "code",
   "execution_count": 3,
   "metadata": {},
   "outputs": [
    {
     "name": "stdout",
     "output_type": "stream",
     "text": [
      "2019-09-01 15:01:42.722384\n"
     ]
    }
   ],
   "source": [
    "from datetime import datetime\n",
    "now = datetime.utcnow()\n",
    "print(str(datetime.utcnow()))"
   ]
  },
  {
   "cell_type": "code",
   "execution_count": null,
   "metadata": {
    "collapsed": true
   },
   "outputs": [],
   "source": []
  }
 ],
 "metadata": {
  "kernelspec": {
   "display_name": "Python 3",
   "language": "python",
   "name": "python3"
  },
  "language_info": {
   "codemirror_mode": {
    "name": "ipython",
    "version": 3
   },
   "file_extension": ".py",
   "mimetype": "text/x-python",
   "name": "python",
   "nbconvert_exporter": "python",
   "pygments_lexer": "ipython3",
   "version": "3.6.3"
  }
 },
 "nbformat": 4,
 "nbformat_minor": 2
}
