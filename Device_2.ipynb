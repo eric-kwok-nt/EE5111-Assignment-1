{
 "cells": [
  {
   "cell_type": "code",
   "execution_count": 1,
   "metadata": {
    "scrolled": true
   },
   "outputs": [
    {
     "name": "stdout",
     "output_type": "stream",
     "text": [
      "\n",
      "UPDATE: $aws/things/A0108484B_2/shadow/update/#\n",
      "payload = {\"state\":{\"reported\":{\"ID\":\"FD002_1\",\"Cycle\":1,\"os 1\":-7.0E-4,\"os 2\":-4.0E-4,\"os 3\":100.0,\"sensor 1\":518.67,\"sensor 2\":641.82,\"sensor 3\":1589.7,\"sensor 4\":1400.6,\"sensor 5\":14.62,\"sensor 6\":21.61,\"sensor 7\":554.36,\"sensor 8\":2388.06,\"sensor 9\":9046.19,\"sensor 10\":1.3,\"sensor 11\":47.47,\"sensor 12\":521.66,\"sensor 13\":2388.02,\"sensor 14\":8138.62,\"sensor 15\":8.4195,\"sensor 16\":0.03,\"sensor 17\":392,\"sensor 18\":2388,\"sensor 19\":100.0,\"sensor 20\":39.06,\"sensor 21\":23.419,\"Timestamp\":\"2019-09-02 03:58:58.007842\",\"Matric Number\":\"A0108484B\"}},\"metadata\":{\"reported\":{\"ID\":{\"timestamp\":1567396740},\"Cycle\":{\"timestamp\":1567396740},\"os 1\":{\"timestamp\":1567396740},\"os 2\":{\"timestamp\":1567396740},\"os 3\":{\"timestamp\":1567396740},\"sensor 1\":{\"timestamp\":1567396740},\"sensor 2\":{\"timestamp\":1567396740},\"sensor 3\":{\"timestamp\":1567396740},\"sensor 4\":{\"timestamp\":1567396740},\"sensor 5\":{\"timestamp\":1567396740},\"sensor 6\":{\"timestamp\":1567396740},\"sensor 7\":{\"timestamp\":1567396740},\"sensor 8\":{\"timestamp\":1567396740},\"sensor 9\":{\"timestamp\":1567396740},\"sensor 10\":{\"timestamp\":1567396740},\"sensor 11\":{\"timestamp\":1567396740},\"sensor 12\":{\"timestamp\":1567396740},\"sensor 13\":{\"timestamp\":1567396740},\"sensor 14\":{\"timestamp\":1567396740},\"sensor 15\":{\"timestamp\":1567396740},\"sensor 16\":{\"timestamp\":1567396740},\"sensor 17\":{\"timestamp\":1567396740},\"sensor 18\":{\"timestamp\":1567396740},\"sensor 19\":{\"timestamp\":1567396740},\"sensor 20\":{\"timestamp\":1567396740},\"sensor 21\":{\"timestamp\":1567396740},\"Timestamp\":{\"timestamp\":1567396740},\"Matric Number\":{\"timestamp\":1567396740}}},\"version\":3,\"timestamp\":1567396740,\"clientToken\":\"474fb5d6-6cbc-4cfe-82c4-cb459de25b44\"}\n",
      "responseStatus = accepted\n",
      "token = 474fb5d6-6cbc-4cfe-82c4-cb459de25b44\n",
      "\n",
      "UPDATE: $aws/things/A0108484B_2/shadow/update/#\n",
      "payload = {\"state\":{\"reported\":{\"ID\":\"FD002_2\",\"Cycle\":2,\"os 1\":0.0019,\"os 2\":-3.0E-4,\"os 3\":100.0,\"sensor 1\":518.67,\"sensor 2\":642.15,\"sensor 3\":1591.82,\"sensor 4\":1403.14,\"sensor 5\":14.62,\"sensor 6\":21.61,\"sensor 7\":553.75,\"sensor 8\":2388.04,\"sensor 9\":9044.07,\"sensor 10\":1.3,\"sensor 11\":47.49,\"sensor 12\":522.28,\"sensor 13\":2388.07,\"sensor 14\":8131.49,\"sensor 15\":8.4318,\"sensor 16\":0.03,\"sensor 17\":392,\"sensor 18\":2388,\"sensor 19\":100.0,\"sensor 20\":39.0,\"sensor 21\":23.4236,\"Timestamp\":\"2019-09-02 03:59:01.049546\",\"Matric Number\":\"A0108484B\"}},\"metadata\":{\"reported\":{\"ID\":{\"timestamp\":1567396741},\"Cycle\":{\"timestamp\":1567396741},\"os 1\":{\"timestamp\":1567396741},\"os 2\":{\"timestamp\":1567396741},\"os 3\":{\"timestamp\":1567396741},\"sensor 1\":{\"timestamp\":1567396741},\"sensor 2\":{\"timestamp\":1567396741},\"sensor 3\":{\"timestamp\":1567396741},\"sensor 4\":{\"timestamp\":1567396741},\"sensor 5\":{\"timestamp\":1567396741},\"sensor 6\":{\"timestamp\":1567396741},\"sensor 7\":{\"timestamp\":1567396741},\"sensor 8\":{\"timestamp\":1567396741},\"sensor 9\":{\"timestamp\":1567396741},\"sensor 10\":{\"timestamp\":1567396741},\"sensor 11\":{\"timestamp\":1567396741},\"sensor 12\":{\"timestamp\":1567396741},\"sensor 13\":{\"timestamp\":1567396741},\"sensor 14\":{\"timestamp\":1567396741},\"sensor 15\":{\"timestamp\":1567396741},\"sensor 16\":{\"timestamp\":1567396741},\"sensor 17\":{\"timestamp\":1567396741},\"sensor 18\":{\"timestamp\":1567396741},\"sensor 19\":{\"timestamp\":1567396741},\"sensor 20\":{\"timestamp\":1567396741},\"sensor 21\":{\"timestamp\":1567396741},\"Timestamp\":{\"timestamp\":1567396741},\"Matric Number\":{\"timestamp\":1567396741}}},\"version\":4,\"timestamp\":1567396741,\"clientToken\":\"b0b6ee22-e609-441a-a3e1-ed2d563a6632\"}\n",
      "responseStatus = accepted\n",
      "token = b0b6ee22-e609-441a-a3e1-ed2d563a6632\n",
      "\n",
      "UPDATE: $aws/things/A0108484B_2/shadow/update/#\n",
      "payload = {\"state\":{\"reported\":{\"ID\":\"FD002_3\",\"Cycle\":3,\"os 1\":-0.0043,\"os 2\":3.0E-4,\"os 3\":100.0,\"sensor 1\":518.67,\"sensor 2\":642.35,\"sensor 3\":1587.99,\"sensor 4\":1404.2,\"sensor 5\":14.62,\"sensor 6\":21.61,\"sensor 7\":554.26,\"sensor 8\":2388.08,\"sensor 9\":9052.94,\"sensor 10\":1.3,\"sensor 11\":47.27,\"sensor 12\":522.42,\"sensor 13\":2388.03,\"sensor 14\":8133.23,\"sensor 15\":8.4178,\"sensor 16\":0.03,\"sensor 17\":390,\"sensor 18\":2388,\"sensor 19\":100.0,\"sensor 20\":38.95,\"sensor 21\":23.3442,\"Timestamp\":\"2019-09-02 03:59:02.049938\",\"Matric Number\":\"A0108484B\"}},\"metadata\":{\"reported\":{\"ID\":{\"timestamp\":1567396742},\"Cycle\":{\"timestamp\":1567396742},\"os 1\":{\"timestamp\":1567396742},\"os 2\":{\"timestamp\":1567396742},\"os 3\":{\"timestamp\":1567396742},\"sensor 1\":{\"timestamp\":1567396742},\"sensor 2\":{\"timestamp\":1567396742},\"sensor 3\":{\"timestamp\":1567396742},\"sensor 4\":{\"timestamp\":1567396742},\"sensor 5\":{\"timestamp\":1567396742},\"sensor 6\":{\"timestamp\":1567396742},\"sensor 7\":{\"timestamp\":1567396742},\"sensor 8\":{\"timestamp\":1567396742},\"sensor 9\":{\"timestamp\":1567396742},\"sensor 10\":{\"timestamp\":1567396742},\"sensor 11\":{\"timestamp\":1567396742},\"sensor 12\":{\"timestamp\":1567396742},\"sensor 13\":{\"timestamp\":1567396742},\"sensor 14\":{\"timestamp\":1567396742},\"sensor 15\":{\"timestamp\":1567396742},\"sensor 16\":{\"timestamp\":1567396742},\"sensor 17\":{\"timestamp\":1567396742},\"sensor 18\":{\"timestamp\":1567396742},\"sensor 19\":{\"timestamp\":1567396742},\"sensor 20\":{\"timestamp\":1567396742},\"sensor 21\":{\"timestamp\":1567396742},\"Timestamp\":{\"timestamp\":1567396742},\"Matric Number\":{\"timestamp\":1567396742}}},\"version\":5,\"timestamp\":1567396742,\"clientToken\":\"184472b5-d53e-4f82-a9d3-bc4928b21228\"}\n",
      "responseStatus = accepted\n",
      "token = 184472b5-d53e-4f82-a9d3-bc4928b21228\n",
      "\n",
      "UPDATE: $aws/things/A0108484B_2/shadow/update/#\n",
      "payload = {\"state\":{\"reported\":{\"ID\":\"FD002_4\",\"Cycle\":4,\"os 1\":7.0E-4,\"os 2\":0.0,\"os 3\":100.0,\"sensor 1\":518.67,\"sensor 2\":642.35,\"sensor 3\":1582.79,\"sensor 4\":1401.87,\"sensor 5\":14.62,\"sensor 6\":21.61,\"sensor 7\":554.45,\"sensor 8\":2388.11,\"sensor 9\":9049.48,\"sensor 10\":1.3,\"sensor 11\":47.13,\"sensor 12\":522.86,\"sensor 13\":2388.08,\"sensor 14\":8133.83,\"sensor 15\":8.3682,\"sensor 16\":0.03,\"sensor 17\":392,\"sensor 18\":2388,\"sensor 19\":100.0,\"sensor 20\":38.88,\"sensor 21\":23.3739,\"Timestamp\":\"2019-09-02 03:59:03.051112\",\"Matric Number\":\"A0108484B\"}},\"metadata\":{\"reported\":{\"ID\":{\"timestamp\":1567396743},\"Cycle\":{\"timestamp\":1567396743},\"os 1\":{\"timestamp\":1567396743},\"os 2\":{\"timestamp\":1567396743},\"os 3\":{\"timestamp\":1567396743},\"sensor 1\":{\"timestamp\":1567396743},\"sensor 2\":{\"timestamp\":1567396743},\"sensor 3\":{\"timestamp\":1567396743},\"sensor 4\":{\"timestamp\":1567396743},\"sensor 5\":{\"timestamp\":1567396743},\"sensor 6\":{\"timestamp\":1567396743},\"sensor 7\":{\"timestamp\":1567396743},\"sensor 8\":{\"timestamp\":1567396743},\"sensor 9\":{\"timestamp\":1567396743},\"sensor 10\":{\"timestamp\":1567396743},\"sensor 11\":{\"timestamp\":1567396743},\"sensor 12\":{\"timestamp\":1567396743},\"sensor 13\":{\"timestamp\":1567396743},\"sensor 14\":{\"timestamp\":1567396743},\"sensor 15\":{\"timestamp\":1567396743},\"sensor 16\":{\"timestamp\":1567396743},\"sensor 17\":{\"timestamp\":1567396743},\"sensor 18\":{\"timestamp\":1567396743},\"sensor 19\":{\"timestamp\":1567396743},\"sensor 20\":{\"timestamp\":1567396743},\"sensor 21\":{\"timestamp\":1567396743},\"Timestamp\":{\"timestamp\":1567396743},\"Matric Number\":{\"timestamp\":1567396743}}},\"version\":6,\"timestamp\":1567396743,\"clientToken\":\"08b7f4cb-b62d-49ee-a774-b1ff223a52be\"}\n",
      "responseStatus = accepted\n",
      "token = 08b7f4cb-b62d-49ee-a774-b1ff223a52be\n",
      "\n",
      "UPDATE: $aws/things/A0108484B_2/shadow/update/#\n",
      "payload = {\"state\":{\"reported\":{\"ID\":\"FD002_5\",\"Cycle\":5,\"os 1\":-0.0019,\"os 2\":-2.0E-4,\"os 3\":100.0,\"sensor 1\":518.67,\"sensor 2\":642.37,\"sensor 3\":1582.85,\"sensor 4\":1406.22,\"sensor 5\":14.62,\"sensor 6\":21.61,\"sensor 7\":554.0,\"sensor 8\":2388.06,\"sensor 9\":9055.15,\"sensor 10\":1.3,\"sensor 11\":47.28,\"sensor 12\":522.19,\"sensor 13\":2388.04,\"sensor 14\":8133.8,\"sensor 15\":8.4294,\"sensor 16\":0.03,\"sensor 17\":393,\"sensor 18\":2388,\"sensor 19\":100.0,\"sensor 20\":38.9,\"sensor 21\":23.4044,\"Timestamp\":\"2019-09-02 03:59:04.052830\",\"Matric Number\":\"A0108484B\"}},\"metadata\":{\"reported\":{\"ID\":{\"timestamp\":1567396744},\"Cycle\":{\"timestamp\":1567396744},\"os 1\":{\"timestamp\":1567396744},\"os 2\":{\"timestamp\":1567396744},\"os 3\":{\"timestamp\":1567396744},\"sensor 1\":{\"timestamp\":1567396744},\"sensor 2\":{\"timestamp\":1567396744},\"sensor 3\":{\"timestamp\":1567396744},\"sensor 4\":{\"timestamp\":1567396744},\"sensor 5\":{\"timestamp\":1567396744},\"sensor 6\":{\"timestamp\":1567396744},\"sensor 7\":{\"timestamp\":1567396744},\"sensor 8\":{\"timestamp\":1567396744},\"sensor 9\":{\"timestamp\":1567396744},\"sensor 10\":{\"timestamp\":1567396744},\"sensor 11\":{\"timestamp\":1567396744},\"sensor 12\":{\"timestamp\":1567396744},\"sensor 13\":{\"timestamp\":1567396744},\"sensor 14\":{\"timestamp\":1567396744},\"sensor 15\":{\"timestamp\":1567396744},\"sensor 16\":{\"timestamp\":1567396744},\"sensor 17\":{\"timestamp\":1567396744},\"sensor 18\":{\"timestamp\":1567396744},\"sensor 19\":{\"timestamp\":1567396744},\"sensor 20\":{\"timestamp\":1567396744},\"sensor 21\":{\"timestamp\":1567396744},\"Timestamp\":{\"timestamp\":1567396744},\"Matric Number\":{\"timestamp\":1567396744}}},\"version\":7,\"timestamp\":1567396744,\"clientToken\":\"6f7c0111-1b27-4426-a6eb-b52513a449c0\"}\n",
      "responseStatus = accepted\n",
      "token = 6f7c0111-1b27-4426-a6eb-b52513a449c0\n"
     ]
    },
    {
     "name": "stdout",
     "output_type": "stream",
     "text": [
      "\n",
      "UPDATE: $aws/things/A0108484B_2/shadow/update/#\n",
      "payload = {\"state\":{\"reported\":{\"ID\":\"FD002_6\",\"Cycle\":6,\"os 1\":-0.0043,\"os 2\":-1.0E-4,\"os 3\":100.0,\"sensor 1\":518.67,\"sensor 2\":642.1,\"sensor 3\":1584.47,\"sensor 4\":1398.37,\"sensor 5\":14.62,\"sensor 6\":21.61,\"sensor 7\":554.67,\"sensor 8\":2388.02,\"sensor 9\":9049.68,\"sensor 10\":1.3,\"sensor 11\":47.16,\"sensor 12\":521.68,\"sensor 13\":2388.03,\"sensor 14\":8132.85,\"sensor 15\":8.4108,\"sensor 16\":0.03,\"sensor 17\":391,\"sensor 18\":2388,\"sensor 19\":100.0,\"sensor 20\":38.98,\"sensor 21\":23.3669,\"Timestamp\":\"2019-09-02 03:59:05.054551\",\"Matric Number\":\"A0108484B\"}},\"metadata\":{\"reported\":{\"ID\":{\"timestamp\":1567396745},\"Cycle\":{\"timestamp\":1567396745},\"os 1\":{\"timestamp\":1567396745},\"os 2\":{\"timestamp\":1567396745},\"os 3\":{\"timestamp\":1567396745},\"sensor 1\":{\"timestamp\":1567396745},\"sensor 2\":{\"timestamp\":1567396745},\"sensor 3\":{\"timestamp\":1567396745},\"sensor 4\":{\"timestamp\":1567396745},\"sensor 5\":{\"timestamp\":1567396745},\"sensor 6\":{\"timestamp\":1567396745},\"sensor 7\":{\"timestamp\":1567396745},\"sensor 8\":{\"timestamp\":1567396745},\"sensor 9\":{\"timestamp\":1567396745},\"sensor 10\":{\"timestamp\":1567396745},\"sensor 11\":{\"timestamp\":1567396745},\"sensor 12\":{\"timestamp\":1567396745},\"sensor 13\":{\"timestamp\":1567396745},\"sensor 14\":{\"timestamp\":1567396745},\"sensor 15\":{\"timestamp\":1567396745},\"sensor 16\":{\"timestamp\":1567396745},\"sensor 17\":{\"timestamp\":1567396745},\"sensor 18\":{\"timestamp\":1567396745},\"sensor 19\":{\"timestamp\":1567396745},\"sensor 20\":{\"timestamp\":1567396745},\"sensor 21\":{\"timestamp\":1567396745},\"Timestamp\":{\"timestamp\":1567396745},\"Matric Number\":{\"timestamp\":1567396745}}},\"version\":8,\"timestamp\":1567396745,\"clientToken\":\"a8875c6c-0ace-43be-b97a-14f1064de4e1\"}\n",
      "responseStatus = accepted\n",
      "token = a8875c6c-0ace-43be-b97a-14f1064de4e1\n",
      "\n",
      "UPDATE: $aws/things/A0108484B_2/shadow/update/#\n",
      "payload = {\"state\":{\"reported\":{\"ID\":\"FD002_7\",\"Cycle\":7,\"os 1\":0.001,\"os 2\":1.0E-4,\"os 3\":100.0,\"sensor 1\":518.67,\"sensor 2\":642.48,\"sensor 3\":1592.32,\"sensor 4\":1397.77,\"sensor 5\":14.62,\"sensor 6\":21.61,\"sensor 7\":554.34,\"sensor 8\":2388.02,\"sensor 9\":9059.13,\"sensor 10\":1.3,\"sensor 11\":47.36,\"sensor 12\":522.32,\"sensor 13\":2388.03,\"sensor 14\":8132.32,\"sensor 15\":8.3974,\"sensor 16\":0.03,\"sensor 17\":392,\"sensor 18\":2388,\"sensor 19\":100.0,\"sensor 20\":39.1,\"sensor 21\":23.3774,\"Timestamp\":\"2019-09-02 03:59:06.056206\",\"Matric Number\":\"A0108484B\"}},\"metadata\":{\"reported\":{\"ID\":{\"timestamp\":1567396746},\"Cycle\":{\"timestamp\":1567396746},\"os 1\":{\"timestamp\":1567396746},\"os 2\":{\"timestamp\":1567396746},\"os 3\":{\"timestamp\":1567396746},\"sensor 1\":{\"timestamp\":1567396746},\"sensor 2\":{\"timestamp\":1567396746},\"sensor 3\":{\"timestamp\":1567396746},\"sensor 4\":{\"timestamp\":1567396746},\"sensor 5\":{\"timestamp\":1567396746},\"sensor 6\":{\"timestamp\":1567396746},\"sensor 7\":{\"timestamp\":1567396746},\"sensor 8\":{\"timestamp\":1567396746},\"sensor 9\":{\"timestamp\":1567396746},\"sensor 10\":{\"timestamp\":1567396746},\"sensor 11\":{\"timestamp\":1567396746},\"sensor 12\":{\"timestamp\":1567396746},\"sensor 13\":{\"timestamp\":1567396746},\"sensor 14\":{\"timestamp\":1567396746},\"sensor 15\":{\"timestamp\":1567396746},\"sensor 16\":{\"timestamp\":1567396746},\"sensor 17\":{\"timestamp\":1567396746},\"sensor 18\":{\"timestamp\":1567396746},\"sensor 19\":{\"timestamp\":1567396746},\"sensor 20\":{\"timestamp\":1567396746},\"sensor 21\":{\"timestamp\":1567396746},\"Timestamp\":{\"timestamp\":1567396746},\"Matric Number\":{\"timestamp\":1567396746}}},\"version\":9,\"timestamp\":1567396746,\"clientToken\":\"5de2237f-8d17-401b-9c1e-7199e7270c20\"}\n",
      "responseStatus = accepted\n",
      "token = 5de2237f-8d17-401b-9c1e-7199e7270c20\n",
      "\n",
      "UPDATE: $aws/things/A0108484B_2/shadow/update/#\n",
      "payload = {\"state\":{\"reported\":{\"ID\":\"FD002_8\",\"Cycle\":8,\"os 1\":-0.0034,\"os 2\":3.0E-4,\"os 3\":100.0,\"sensor 1\":518.67,\"sensor 2\":642.56,\"sensor 3\":1582.96,\"sensor 4\":1400.97,\"sensor 5\":14.62,\"sensor 6\":21.61,\"sensor 7\":553.85,\"sensor 8\":2388.0,\"sensor 9\":9040.8,\"sensor 10\":1.3,\"sensor 11\":47.24,\"sensor 12\":522.47,\"sensor 13\":2388.03,\"sensor 14\":8131.07,\"sensor 15\":8.4076,\"sensor 16\":0.03,\"sensor 17\":391,\"sensor 18\":2388,\"sensor 19\":100.0,\"sensor 20\":38.97,\"sensor 21\":23.3106,\"Timestamp\":\"2019-09-02 03:59:07.057981\",\"Matric Number\":\"A0108484B\"}},\"metadata\":{\"reported\":{\"ID\":{\"timestamp\":1567396747},\"Cycle\":{\"timestamp\":1567396747},\"os 1\":{\"timestamp\":1567396747},\"os 2\":{\"timestamp\":1567396747},\"os 3\":{\"timestamp\":1567396747},\"sensor 1\":{\"timestamp\":1567396747},\"sensor 2\":{\"timestamp\":1567396747},\"sensor 3\":{\"timestamp\":1567396747},\"sensor 4\":{\"timestamp\":1567396747},\"sensor 5\":{\"timestamp\":1567396747},\"sensor 6\":{\"timestamp\":1567396747},\"sensor 7\":{\"timestamp\":1567396747},\"sensor 8\":{\"timestamp\":1567396747},\"sensor 9\":{\"timestamp\":1567396747},\"sensor 10\":{\"timestamp\":1567396747},\"sensor 11\":{\"timestamp\":1567396747},\"sensor 12\":{\"timestamp\":1567396747},\"sensor 13\":{\"timestamp\":1567396747},\"sensor 14\":{\"timestamp\":1567396747},\"sensor 15\":{\"timestamp\":1567396747},\"sensor 16\":{\"timestamp\":1567396747},\"sensor 17\":{\"timestamp\":1567396747},\"sensor 18\":{\"timestamp\":1567396747},\"sensor 19\":{\"timestamp\":1567396747},\"sensor 20\":{\"timestamp\":1567396747},\"sensor 21\":{\"timestamp\":1567396747},\"Timestamp\":{\"timestamp\":1567396747},\"Matric Number\":{\"timestamp\":1567396747}}},\"version\":10,\"timestamp\":1567396747,\"clientToken\":\"cb9529bd-98f7-4244-b70a-919557983e01\"}\n",
      "responseStatus = accepted\n",
      "token = cb9529bd-98f7-4244-b70a-919557983e01\n",
      "\n",
      "UPDATE: $aws/things/A0108484B_2/shadow/update/#\n",
      "payload = {\"state\":{\"reported\":{\"ID\":\"FD002_9\",\"Cycle\":9,\"os 1\":8.0E-4,\"os 2\":1.0E-4,\"os 3\":100.0,\"sensor 1\":518.67,\"sensor 2\":642.12,\"sensor 3\":1590.98,\"sensor 4\":1394.8,\"sensor 5\":14.62,\"sensor 6\":21.61,\"sensor 7\":553.69,\"sensor 8\":2388.05,\"sensor 9\":9046.46,\"sensor 10\":1.3,\"sensor 11\":47.29,\"sensor 12\":521.79,\"sensor 13\":2388.05,\"sensor 14\":8125.69,\"sensor 15\":8.3728,\"sensor 16\":0.03,\"sensor 17\":392,\"sensor 18\":2388,\"sensor 19\":100.0,\"sensor 20\":39.05,\"sensor 21\":23.4066,\"Timestamp\":\"2019-09-02 03:59:08.059252\",\"Matric Number\":\"A0108484B\"}},\"metadata\":{\"reported\":{\"ID\":{\"timestamp\":1567396748},\"Cycle\":{\"timestamp\":1567396748},\"os 1\":{\"timestamp\":1567396748},\"os 2\":{\"timestamp\":1567396748},\"os 3\":{\"timestamp\":1567396748},\"sensor 1\":{\"timestamp\":1567396748},\"sensor 2\":{\"timestamp\":1567396748},\"sensor 3\":{\"timestamp\":1567396748},\"sensor 4\":{\"timestamp\":1567396748},\"sensor 5\":{\"timestamp\":1567396748},\"sensor 6\":{\"timestamp\":1567396748},\"sensor 7\":{\"timestamp\":1567396748},\"sensor 8\":{\"timestamp\":1567396748},\"sensor 9\":{\"timestamp\":1567396748},\"sensor 10\":{\"timestamp\":1567396748},\"sensor 11\":{\"timestamp\":1567396748},\"sensor 12\":{\"timestamp\":1567396748},\"sensor 13\":{\"timestamp\":1567396748},\"sensor 14\":{\"timestamp\":1567396748},\"sensor 15\":{\"timestamp\":1567396748},\"sensor 16\":{\"timestamp\":1567396748},\"sensor 17\":{\"timestamp\":1567396748},\"sensor 18\":{\"timestamp\":1567396748},\"sensor 19\":{\"timestamp\":1567396748},\"sensor 20\":{\"timestamp\":1567396748},\"sensor 21\":{\"timestamp\":1567396748},\"Timestamp\":{\"timestamp\":1567396748},\"Matric Number\":{\"timestamp\":1567396748}}},\"version\":11,\"timestamp\":1567396748,\"clientToken\":\"17dc6585-3cef-4978-ac96-957611dcd9c7\"}\n",
      "responseStatus = accepted\n",
      "token = 17dc6585-3cef-4978-ac96-957611dcd9c7\n",
      "\n",
      "UPDATE: $aws/things/A0108484B_2/shadow/update/#\n",
      "payload = {\"state\":{\"reported\":{\"ID\":\"FD002_10\",\"Cycle\":10,\"os 1\":-0.0033,\"os 2\":1.0E-4,\"os 3\":100.0,\"sensor 1\":518.67,\"sensor 2\":641.71,\"sensor 3\":1591.24,\"sensor 4\":1400.46,\"sensor 5\":14.62,\"sensor 6\":21.61,\"sensor 7\":553.59,\"sensor 8\":2388.05,\"sensor 9\":9051.7,\"sensor 10\":1.3,\"sensor 11\":47.03,\"sensor 12\":521.79,\"sensor 13\":2388.06,\"sensor 14\":8129.38,\"sensor 15\":8.4286,\"sensor 16\":0.03,\"sensor 17\":393,\"sensor 18\":2388,\"sensor 19\":100.0,\"sensor 20\":38.95,\"sensor 21\":23.4694,\"Timestamp\":\"2019-09-02 03:59:09.060974\",\"Matric Number\":\"A0108484B\"}},\"metadata\":{\"reported\":{\"ID\":{\"timestamp\":1567396749},\"Cycle\":{\"timestamp\":1567396749},\"os 1\":{\"timestamp\":1567396749},\"os 2\":{\"timestamp\":1567396749},\"os 3\":{\"timestamp\":1567396749},\"sensor 1\":{\"timestamp\":1567396749},\"sensor 2\":{\"timestamp\":1567396749},\"sensor 3\":{\"timestamp\":1567396749},\"sensor 4\":{\"timestamp\":1567396749},\"sensor 5\":{\"timestamp\":1567396749},\"sensor 6\":{\"timestamp\":1567396749},\"sensor 7\":{\"timestamp\":1567396749},\"sensor 8\":{\"timestamp\":1567396749},\"sensor 9\":{\"timestamp\":1567396749},\"sensor 10\":{\"timestamp\":1567396749},\"sensor 11\":{\"timestamp\":1567396749},\"sensor 12\":{\"timestamp\":1567396749},\"sensor 13\":{\"timestamp\":1567396749},\"sensor 14\":{\"timestamp\":1567396749},\"sensor 15\":{\"timestamp\":1567396749},\"sensor 16\":{\"timestamp\":1567396749},\"sensor 17\":{\"timestamp\":1567396749},\"sensor 18\":{\"timestamp\":1567396749},\"sensor 19\":{\"timestamp\":1567396749},\"sensor 20\":{\"timestamp\":1567396749},\"sensor 21\":{\"timestamp\":1567396749},\"Timestamp\":{\"timestamp\":1567396749},\"Matric Number\":{\"timestamp\":1567396749}}},\"version\":12,\"timestamp\":1567396749,\"clientToken\":\"d59c4a36-8d51-4446-8463-818ef4e8894b\"}\n",
      "responseStatus = accepted\n",
      "token = d59c4a36-8d51-4446-8463-818ef4e8894b\n"
     ]
    },
    {
     "ename": "KeyboardInterrupt",
     "evalue": "",
     "output_type": "error",
     "traceback": [
      "\u001b[1;31m---------------------------------------------------------------------------\u001b[0m",
      "\u001b[1;31mKeyboardInterrupt\u001b[0m                         Traceback (most recent call last)",
      "\u001b[1;32m<ipython-input-1-519eae1ec644>\u001b[0m in \u001b[0;36m<module>\u001b[1;34m()\u001b[0m\n\u001b[0;32m     62\u001b[0m     \u001b[0mappended_js_l\u001b[0m \u001b[1;33m=\u001b[0m \u001b[1;34m'{\"state\":{\"reported\":'\u001b[0m\u001b[1;33m+\u001b[0m\u001b[0mjson_line\u001b[0m\u001b[1;33m+\u001b[0m\u001b[1;34m'}}'\u001b[0m\u001b[1;33m\u001b[0m\u001b[0m\n\u001b[0;32m     63\u001b[0m     \u001b[0mmyDeviceShadow\u001b[0m\u001b[1;33m.\u001b[0m\u001b[0mshadowUpdate\u001b[0m\u001b[1;33m(\u001b[0m\u001b[0mappended_js_l\u001b[0m\u001b[1;33m,\u001b[0m\u001b[0mmyShadowUpdateCallback\u001b[0m\u001b[1;33m,\u001b[0m \u001b[1;36m5\u001b[0m\u001b[1;33m)\u001b[0m\u001b[1;33m\u001b[0m\u001b[0m\n\u001b[1;32m---> 64\u001b[1;33m     \u001b[0mtime\u001b[0m\u001b[1;33m.\u001b[0m\u001b[0msleep\u001b[0m\u001b[1;33m(\u001b[0m\u001b[1;36m1\u001b[0m\u001b[1;33m)\u001b[0m\u001b[1;33m\u001b[0m\u001b[0m\n\u001b[0m",
      "\u001b[1;31mKeyboardInterrupt\u001b[0m: "
     ]
    }
   ],
   "source": [
    "from AWSIoTPythonSDK.MQTTLib import AWSIoTMQTTShadowClient\n",
    "import random, time\n",
    "import json\n",
    "import pandas as pd\n",
    "from datetime import datetime as dt\n",
    "from ee5111_libraries import *\n",
    "\n",
    "# A random programmatic shadow client ID.\n",
    "SHADOW_CLIENT = \"myShadowClient\"\n",
    "\n",
    "# The unique hostname that &IoT; generated for\n",
    "# this device.\n",
    "HOST_NAME = \"a3pozjl1nqlszm-ats.iot.ap-southeast-1.amazonaws.com\"\n",
    "\n",
    "# The relative path to the correct root CA file for &IoT;,\n",
    "# which you have already saved onto this device.\n",
    "ROOT_CA = \"Amazon AWS server certificates 2/AmazonRootCA1.pem\"\n",
    "\n",
    "# The relative path to your private key file that\n",
    "# &IoT; generated for this device, which you\n",
    "# have already saved onto this device.\n",
    "PRIVATE_KEY = \"Amazon AWS server certificates 2/68da3795af-private.pem.key\"\n",
    "\n",
    "# The relative path to your certificate file that\n",
    "# &IoT; generated for this device, which you\n",
    "# have already saved onto this device.\n",
    "CERT_FILE = \"Amazon AWS server certificates 2/68da3795af-certificate.pem.crt\"\n",
    "\n",
    "# A programmatic shadow handler name prefix.\n",
    "SHADOW_HANDLER = \"A0108484B_2\"\n",
    "\n",
    "# Automatically called whenever the shadow is updated.\n",
    "def myShadowUpdateCallback(payload, responseStatus, token):\n",
    "  print()\n",
    "  print('UPDATE: $aws/things/' + SHADOW_HANDLER +\n",
    "    '/shadow/update/#')\n",
    "  print(\"payload = \" + payload)\n",
    "  print(\"responseStatus = \" + responseStatus)\n",
    "  print(\"token = \" + token)\n",
    "\n",
    "# Create, configure, and connect a shadow client.\n",
    "myShadowClient = AWSIoTMQTTShadowClient(SHADOW_CLIENT)\n",
    "myShadowClient.configureEndpoint(HOST_NAME, 8883)\n",
    "myShadowClient.configureCredentials(ROOT_CA, PRIVATE_KEY,\n",
    "  CERT_FILE)\n",
    "myShadowClient.configureConnectDisconnectTimeout(10)\n",
    "myShadowClient.configureMQTTOperationTimeout(5)\n",
    "myShadowClient.connect()\n",
    "\n",
    "# Create a programmatic representation of the shadow.\n",
    "myDeviceShadow = myShadowClient.createShadowHandlerWithName(\n",
    "  SHADOW_HANDLER, True)\n",
    "\n",
    "# stops running.\n",
    "# To stop running this script, press Ctrl+C.\n",
    "\n",
    "eng_d1 = csv_processing('train_FD001.txt',2) # Obtain a pd csv obj for engine number 1\n",
    "no_of_lines = 100 # Number of lines to be published\n",
    "for i in range(no_of_lines):\n",
    "    eng_d1.at[i,'Timestamp'] = str(dt.utcnow())\n",
    "    json_line = eng_d1.iloc[i].to_json() # To convert the csv line into json format\n",
    "    appended_js_l = '{\"state\":{\"reported\":'+json_line+'}}'\n",
    "    myDeviceShadow.shadowUpdate(appended_js_l,myShadowUpdateCallback, 5)\n",
    "    time.sleep(1)"
   ]
  },
  {
   "cell_type": "code",
   "execution_count": 3,
   "metadata": {},
   "outputs": [
    {
     "name": "stdout",
     "output_type": "stream",
     "text": [
      "2019-09-01 15:01:42.722384\n"
     ]
    }
   ],
   "source": [
    "from datetime import datetime\n",
    "now = datetime.utcnow()\n",
    "print(str(datetime.utcnow()))"
   ]
  },
  {
   "cell_type": "code",
   "execution_count": null,
   "metadata": {
    "collapsed": true
   },
   "outputs": [],
   "source": []
  }
 ],
 "metadata": {
  "kernelspec": {
   "display_name": "Python 3",
   "language": "python",
   "name": "python3"
  },
  "language_info": {
   "codemirror_mode": {
    "name": "ipython",
    "version": 3
   },
   "file_extension": ".py",
   "mimetype": "text/x-python",
   "name": "python",
   "nbconvert_exporter": "python",
   "pygments_lexer": "ipython3",
   "version": "3.6.3"
  }
 },
 "nbformat": 4,
 "nbformat_minor": 2
}
