{
 "cells": [
  {
   "cell_type": "code",
   "execution_count": 8,
   "metadata": {},
   "outputs": [
    {
     "data": {
      "text/plain": [
       "'2019-09-01 14:51:56.047915'"
      ]
     },
     "execution_count": 8,
     "metadata": {},
     "output_type": "execute_result"
    }
   ],
   "source": [
    "import pandas as pd\n",
    "import numpy as np\n",
    "from datetime import datetime as dt\n",
    "\n",
    "def csv_processing(filename,engine_number):\n",
    "    engine_d = pd.read_csv(filename,delimiter=' |\\n',header=None,engine='python') \n",
    "    # To read the engine data\n",
    "\n",
    "    Header = ['ID','Cycle','os 1','os 2','os 3']\n",
    "    Header += ['sensor '+str(sensor_num) for sensor_num in range(1,len(engine_d.columns)-4)]\n",
    "    # Initialize the headers\n",
    "\n",
    "    engine_d.columns = Header # Insert headers for the data\n",
    "    ID = ['FD00'+str(engine_number)+'_'+str(id) for id in range(1,len(engine_d.index)+1)] \n",
    "    engine_d['ID'] = ID # Change the ID column\n",
    "\n",
    "    engine_d['Timestamp'] = str(np.nan)\n",
    "    engine_d['Matric Number'] = 'A0108484B'\n",
    "\n",
    "    return engine_d\n",
    "\n",
    "eng_d1 = csv_processing('train_FD001.txt',1)\n",
    "now = dt.utcnow()\n",
    "eng_d1.at[1,'Timestamp'] = str(now)\n",
    "eng_d1.iloc[1]['Timestamp'] "
   ]
  }
 ],
 "metadata": {
  "kernelspec": {
   "display_name": "Python 3",
   "language": "python",
   "name": "python3"
  },
  "language_info": {
   "codemirror_mode": {
    "name": "ipython",
    "version": 3
   },
   "file_extension": ".py",
   "mimetype": "text/x-python",
   "name": "python",
   "nbconvert_exporter": "python",
   "pygments_lexer": "ipython3",
   "version": "3.6.3"
  }
 },
 "nbformat": 4,
 "nbformat_minor": 2
}
